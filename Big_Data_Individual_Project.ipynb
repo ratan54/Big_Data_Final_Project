{
  "nbformat": 4,
  "nbformat_minor": 0,
  "metadata": {
    "colab": {
      "name": "Big_Data_Individual_Project.ipynb",
      "provenance": [],
      "authorship_tag": "ABX9TyPUzlc/HLOu56zkW00SOHzE"
    },
    "kernelspec": {
      "name": "python3",
      "display_name": "Python 3"
    },
    "language_info": {
      "name": "python"
    }
  },
  "cells": [
    {
      "cell_type": "markdown",
      "metadata": {
        "id": "IMEeztuI2dLT"
      },
      "source": [
        "**Uploading the data file**"
      ]
    },
    {
      "cell_type": "code",
      "metadata": {
        "colab": {
          "resources": {
            "http://localhost:8080/nbextensions/google.colab/files.js": {
              "data": "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",
              "ok": true,
              "headers": [
                [
                  "content-type",
                  "application/javascript"
                ]
              ],
              "status": 200,
              "status_text": ""
            }
          },
          "base_uri": "https://localhost:8080/",
          "height": 90
        },
        "id": "Howa0PBrz9pW",
        "outputId": "23d66747-746f-43dd-aad1-d520feeed413"
      },
      "source": [
        "from google.colab import files\n",
        "\n",
        "uploaded = files.upload()\n",
        "\n",
        "\n",
        "for fn in uploaded.keys():\n",
        "\n",
        "  print('User uploaded file \"{name}\" with length {length} bytes'.format(\n",
        "\n",
        "name=fn, length=len(uploaded[fn])))"
      ],
      "execution_count": 1,
      "outputs": [
        {
          "output_type": "display_data",
          "data": {
            "text/html": [
              "\n",
              "     <input type=\"file\" id=\"files-e46d00e7-60c5-4957-a8e1-7ef4856f4f3d\" name=\"files[]\" multiple disabled\n",
              "        style=\"border:none\" />\n",
              "     <output id=\"result-e46d00e7-60c5-4957-a8e1-7ef4856f4f3d\">\n",
              "      Upload widget is only available when the cell has been executed in the\n",
              "      current browser session. Please rerun this cell to enable.\n",
              "      </output>\n",
              "      <script src=\"/nbextensions/google.colab/files.js\"></script> "
            ],
            "text/plain": [
              "<IPython.core.display.HTML object>"
            ]
          },
          "metadata": {
            "tags": []
          }
        },
        {
          "output_type": "stream",
          "text": [
            "Saving Covid Dataset.csv to Covid Dataset.csv\n",
            "User uploaded file \"Covid Dataset.csv\" with length 405339 bytes\n"
          ],
          "name": "stdout"
        }
      ]
    },
    {
      "cell_type": "markdown",
      "metadata": {
        "id": "UzQxdB4w2mWB"
      },
      "source": [
        "**Library for working with dataset**"
      ]
    },
    {
      "cell_type": "code",
      "metadata": {
        "id": "zrO9lZ5z0Uty"
      },
      "source": [
        "import pandas as pd\n",
        "import numpy as np\n",
        "import os"
      ],
      "execution_count": 39,
      "outputs": []
    },
    {
      "cell_type": "markdown",
      "metadata": {
        "id": "2vvpZqKh2sIs"
      },
      "source": [
        "**Library for data visualization**"
      ]
    },
    {
      "cell_type": "code",
      "metadata": {
        "id": "JfgLeI3-0b85"
      },
      "source": [
        "import matplotlib\n",
        "import matplotlib.pyplot as plt\n",
        "import seaborn as sns"
      ],
      "execution_count": 40,
      "outputs": []
    },
    {
      "cell_type": "markdown",
      "metadata": {
        "id": "51uylUzc0s_H"
      },
      "source": [
        "**Machine learning algorithms**"
      ]
    },
    {
      "cell_type": "code",
      "metadata": {
        "id": "itrwE5Bf03mQ"
      },
      "source": [
        "from sklearn.model_selection import train_test_split\n",
        "from sklearn import metrics\n",
        "from sklearn.metrics import accuracy_score\n",
        "from sklearn.linear_model import LogisticRegression\n",
        "from sklearn.ensemble import RandomForestRegressor\n",
        "from sklearn import tree"
      ],
      "execution_count": 41,
      "outputs": []
    },
    {
      "cell_type": "markdown",
      "metadata": {
        "id": "uSM66cD5HYtx"
      },
      "source": [
        "**Importing dataset**"
      ]
    },
    {
      "cell_type": "code",
      "metadata": {
        "id": "-dMz2HE3HYCS"
      },
      "source": [
        "Covid19= pd.read_csv (r'/content/Covid Dataset.csv')"
      ],
      "execution_count": 42,
      "outputs": []
    },
    {
      "cell_type": "markdown",
      "metadata": {
        "id": "68E1OtpryEDg"
      },
      "source": [
        "**Checking for the NA(Missing values) in the dataset**"
      ]
    },
    {
      "cell_type": "code",
      "metadata": {
        "colab": {
          "base_uri": "https://localhost:8080/"
        },
        "id": "FTdxfgPZ2Wpz",
        "outputId": "fb322e69-273c-47b4-9ad5-e75cc3907eb8"
      },
      "source": [
        "Covid19.isna().sum()"
      ],
      "execution_count": 6,
      "outputs": [
        {
          "output_type": "execute_result",
          "data": {
            "text/plain": [
              "Breathing Problem                          0\n",
              "Fever                                      0\n",
              "Dry Cough                                  0\n",
              "Sore throat                                0\n",
              "Running Nose                               0\n",
              "Asthma                                     0\n",
              "Chronic Lung Disease                       0\n",
              "Headache                                   0\n",
              "Heart Disease                              0\n",
              "Diabetes                                   0\n",
              "Hyper Tension                              0\n",
              "Fatigue                                    0\n",
              "Gastrointestinal                           0\n",
              "Abroad travel                              0\n",
              "Contact with COVID Patient                 0\n",
              "Attended Large Gathering                   0\n",
              "Visited Public Exposed Places              0\n",
              "Family working in Public Exposed Places    0\n",
              "Wearing Masks                              0\n",
              "Sanitization from Market                   0\n",
              "COVID-19                                   0\n",
              "dtype: int64"
            ]
          },
          "metadata": {
            "tags": []
          },
          "execution_count": 6
        }
      ]
    },
    {
      "cell_type": "markdown",
      "metadata": {
        "id": "yAosW0UdRAH3"
      },
      "source": [
        "With above we noticed that there are no missing values in our dataset"
      ]
    },
    {
      "cell_type": "code",
      "metadata": {
        "colab": {
          "base_uri": "https://localhost:8080/",
          "height": 276
        },
        "id": "1ZTl1R0xRJrW",
        "outputId": "28feb9a2-4bd2-4864-b029-950ee76c02f7"
      },
      "source": [
        "Covid19.describe(include='all')"
      ],
      "execution_count": 43,
      "outputs": [
        {
          "output_type": "execute_result",
          "data": {
            "text/html": [
              "<div>\n",
              "<style scoped>\n",
              "    .dataframe tbody tr th:only-of-type {\n",
              "        vertical-align: middle;\n",
              "    }\n",
              "\n",
              "    .dataframe tbody tr th {\n",
              "        vertical-align: top;\n",
              "    }\n",
              "\n",
              "    .dataframe thead th {\n",
              "        text-align: right;\n",
              "    }\n",
              "</style>\n",
              "<table border=\"1\" class=\"dataframe\">\n",
              "  <thead>\n",
              "    <tr style=\"text-align: right;\">\n",
              "      <th></th>\n",
              "      <th>Breathing Problem</th>\n",
              "      <th>Fever</th>\n",
              "      <th>Dry Cough</th>\n",
              "      <th>Sore throat</th>\n",
              "      <th>Running Nose</th>\n",
              "      <th>Asthma</th>\n",
              "      <th>Chronic Lung Disease</th>\n",
              "      <th>Headache</th>\n",
              "      <th>Heart Disease</th>\n",
              "      <th>Diabetes</th>\n",
              "      <th>Hyper Tension</th>\n",
              "      <th>Fatigue</th>\n",
              "      <th>Gastrointestinal</th>\n",
              "      <th>Abroad travel</th>\n",
              "      <th>Contact with COVID Patient</th>\n",
              "      <th>Attended Large Gathering</th>\n",
              "      <th>Visited Public Exposed Places</th>\n",
              "      <th>Family working in Public Exposed Places</th>\n",
              "      <th>Wearing Masks</th>\n",
              "      <th>Sanitization from Market</th>\n",
              "      <th>COVID-19</th>\n",
              "    </tr>\n",
              "  </thead>\n",
              "  <tbody>\n",
              "    <tr>\n",
              "      <th>count</th>\n",
              "      <td>5434</td>\n",
              "      <td>5434</td>\n",
              "      <td>5434</td>\n",
              "      <td>5434</td>\n",
              "      <td>5434</td>\n",
              "      <td>5434</td>\n",
              "      <td>5434</td>\n",
              "      <td>5434</td>\n",
              "      <td>5434</td>\n",
              "      <td>5434</td>\n",
              "      <td>5434</td>\n",
              "      <td>5434</td>\n",
              "      <td>5434</td>\n",
              "      <td>5434</td>\n",
              "      <td>5434</td>\n",
              "      <td>5434</td>\n",
              "      <td>5434</td>\n",
              "      <td>5434</td>\n",
              "      <td>5434</td>\n",
              "      <td>5434</td>\n",
              "      <td>5434</td>\n",
              "    </tr>\n",
              "    <tr>\n",
              "      <th>unique</th>\n",
              "      <td>2</td>\n",
              "      <td>2</td>\n",
              "      <td>2</td>\n",
              "      <td>2</td>\n",
              "      <td>2</td>\n",
              "      <td>2</td>\n",
              "      <td>2</td>\n",
              "      <td>2</td>\n",
              "      <td>2</td>\n",
              "      <td>2</td>\n",
              "      <td>2</td>\n",
              "      <td>2</td>\n",
              "      <td>2</td>\n",
              "      <td>2</td>\n",
              "      <td>2</td>\n",
              "      <td>2</td>\n",
              "      <td>2</td>\n",
              "      <td>2</td>\n",
              "      <td>1</td>\n",
              "      <td>1</td>\n",
              "      <td>2</td>\n",
              "    </tr>\n",
              "    <tr>\n",
              "      <th>top</th>\n",
              "      <td>Yes</td>\n",
              "      <td>Yes</td>\n",
              "      <td>Yes</td>\n",
              "      <td>Yes</td>\n",
              "      <td>Yes</td>\n",
              "      <td>No</td>\n",
              "      <td>No</td>\n",
              "      <td>Yes</td>\n",
              "      <td>No</td>\n",
              "      <td>No</td>\n",
              "      <td>No</td>\n",
              "      <td>Yes</td>\n",
              "      <td>No</td>\n",
              "      <td>No</td>\n",
              "      <td>Yes</td>\n",
              "      <td>No</td>\n",
              "      <td>Yes</td>\n",
              "      <td>No</td>\n",
              "      <td>No</td>\n",
              "      <td>No</td>\n",
              "      <td>Yes</td>\n",
              "    </tr>\n",
              "    <tr>\n",
              "      <th>freq</th>\n",
              "      <td>3620</td>\n",
              "      <td>4273</td>\n",
              "      <td>4307</td>\n",
              "      <td>3953</td>\n",
              "      <td>2952</td>\n",
              "      <td>2920</td>\n",
              "      <td>2869</td>\n",
              "      <td>2736</td>\n",
              "      <td>2911</td>\n",
              "      <td>2846</td>\n",
              "      <td>2771</td>\n",
              "      <td>2821</td>\n",
              "      <td>2883</td>\n",
              "      <td>2983</td>\n",
              "      <td>2726</td>\n",
              "      <td>2924</td>\n",
              "      <td>2820</td>\n",
              "      <td>3172</td>\n",
              "      <td>5434</td>\n",
              "      <td>5434</td>\n",
              "      <td>4383</td>\n",
              "    </tr>\n",
              "  </tbody>\n",
              "</table>\n",
              "</div>"
            ],
            "text/plain": [
              "       Breathing Problem Fever  ... Sanitization from Market COVID-19\n",
              "count               5434  5434  ...                     5434     5434\n",
              "unique                 2     2  ...                        1        2\n",
              "top                  Yes   Yes  ...                       No      Yes\n",
              "freq                3620  4273  ...                     5434     4383\n",
              "\n",
              "[4 rows x 21 columns]"
            ]
          },
          "metadata": {
            "tags": []
          },
          "execution_count": 43
        }
      ]
    },
    {
      "cell_type": "markdown",
      "metadata": {
        "id": "cPMbjGLJWPWa"
      },
      "source": [
        "From above command we can see the variable counts as well as frequency of all dichotomous variables. In our dataset all variables are dichotomous."
      ]
    },
    {
      "cell_type": "code",
      "metadata": {
        "colab": {
          "base_uri": "https://localhost:8080/"
        },
        "id": "tVM0VFeqWwsG",
        "outputId": "e64e08f4-5142-4ff6-e84d-ea88c5c3bc59"
      },
      "source": [
        "Covid19.columns"
      ],
      "execution_count": 8,
      "outputs": [
        {
          "output_type": "execute_result",
          "data": {
            "text/plain": [
              "Index(['Breathing Problem', 'Fever', 'Dry Cough', 'Sore throat',\n",
              "       'Running Nose', 'Asthma', 'Chronic Lung Disease', 'Headache',\n",
              "       'Heart Disease', 'Diabetes', 'Hyper Tension', 'Fatigue ',\n",
              "       'Gastrointestinal ', 'Abroad travel', 'Contact with COVID Patient',\n",
              "       'Attended Large Gathering', 'Visited Public Exposed Places',\n",
              "       'Family working in Public Exposed Places', 'Wearing Masks',\n",
              "       'Sanitization from Market', 'COVID-19'],\n",
              "      dtype='object')"
            ]
          },
          "metadata": {
            "tags": []
          },
          "execution_count": 8
        }
      ]
    },
    {
      "cell_type": "markdown",
      "metadata": {
        "id": "XDtYwUIGYaFz"
      },
      "source": [
        "**Dichotomous variable distribution**"
      ]
    },
    {
      "cell_type": "code",
      "metadata": {
        "colab": {
          "base_uri": "https://localhost:8080/"
        },
        "id": "m3DVclNCW4eu",
        "outputId": "c17ee220-b1d6-4bb7-c6f4-3f59b1bc3d71"
      },
      "source": [
        "Covid19[[\"Breathing Problem\", \"Fever\", \"Dry Cough\", \"Sore throat\",\"Running Nose\", \"Asthma\", \"Chronic Lung Disease\", \"Headache\",\"Heart Disease\", \"Diabetes\", \"Hyper Tension\", \"Fatigue \",\"Gastrointestinal \", \"Abroad travel\", \"Contact with COVID Patient\",\"Attended Large Gathering\", \"Visited Public Exposed Places\",\"Family working in Public Exposed Places\", \"Wearing Masks\",\"Sanitization from Market\", \"COVID-19\"]].apply(lambda x: x.value_counts()).T.stack()"
      ],
      "execution_count": 9,
      "outputs": [
        {
          "output_type": "execute_result",
          "data": {
            "text/plain": [
              "Breathing Problem                        No     1814.0\n",
              "                                         Yes    3620.0\n",
              "Fever                                    No     1161.0\n",
              "                                         Yes    4273.0\n",
              "Dry Cough                                No     1127.0\n",
              "                                         Yes    4307.0\n",
              "Sore throat                              No     1481.0\n",
              "                                         Yes    3953.0\n",
              "Running Nose                             No     2482.0\n",
              "                                         Yes    2952.0\n",
              "Asthma                                   No     2920.0\n",
              "                                         Yes    2514.0\n",
              "Chronic Lung Disease                     No     2869.0\n",
              "                                         Yes    2565.0\n",
              "Headache                                 No     2698.0\n",
              "                                         Yes    2736.0\n",
              "Heart Disease                            No     2911.0\n",
              "                                         Yes    2523.0\n",
              "Diabetes                                 No     2846.0\n",
              "                                         Yes    2588.0\n",
              "Hyper Tension                            No     2771.0\n",
              "                                         Yes    2663.0\n",
              "Fatigue                                  No     2613.0\n",
              "                                         Yes    2821.0\n",
              "Gastrointestinal                         No     2883.0\n",
              "                                         Yes    2551.0\n",
              "Abroad travel                            No     2983.0\n",
              "                                         Yes    2451.0\n",
              "Contact with COVID Patient               No     2708.0\n",
              "                                         Yes    2726.0\n",
              "Attended Large Gathering                 No     2924.0\n",
              "                                         Yes    2510.0\n",
              "Visited Public Exposed Places            No     2614.0\n",
              "                                         Yes    2820.0\n",
              "Family working in Public Exposed Places  No     3172.0\n",
              "                                         Yes    2262.0\n",
              "Wearing Masks                            No     5434.0\n",
              "Sanitization from Market                 No     5434.0\n",
              "COVID-19                                 No     1051.0\n",
              "                                         Yes    4383.0\n",
              "dtype: float64"
            ]
          },
          "metadata": {
            "tags": []
          },
          "execution_count": 9
        }
      ]
    },
    {
      "cell_type": "markdown",
      "metadata": {
        "id": "Cej1mznCYYkJ"
      },
      "source": [
        "Above we can see the distribution of all variables. We can see from above that we have only one value for Wearing mask as well as for Sanitization from market. Due to this, this variables do not provide us any useful information. hence we will drop this 2 variables."
      ]
    },
    {
      "cell_type": "markdown",
      "metadata": {
        "id": "hI5K0n9YZJ45"
      },
      "source": [
        "**Removing variables with no useful information**"
      ]
    },
    {
      "cell_type": "code",
      "metadata": {
        "id": "-n7EPTQbCQsf"
      },
      "source": [
        "Covid19=Covid19.drop('Wearing Masks',axis=1)\n",
        "Covid19=Covid19.drop('Sanitization from Market',axis=1)"
      ],
      "execution_count": 44,
      "outputs": []
    },
    {
      "cell_type": "code",
      "metadata": {
        "colab": {
          "base_uri": "https://localhost:8080/",
          "height": 521
        },
        "id": "vtPH4Dp4aEh6",
        "outputId": "500e8fb7-6d1f-46b3-8353-cc3dc5e5180c"
      },
      "source": [
        "Covid19"
      ],
      "execution_count": 13,
      "outputs": [
        {
          "output_type": "execute_result",
          "data": {
            "text/html": [
              "<div>\n",
              "<style scoped>\n",
              "    .dataframe tbody tr th:only-of-type {\n",
              "        vertical-align: middle;\n",
              "    }\n",
              "\n",
              "    .dataframe tbody tr th {\n",
              "        vertical-align: top;\n",
              "    }\n",
              "\n",
              "    .dataframe thead th {\n",
              "        text-align: right;\n",
              "    }\n",
              "</style>\n",
              "<table border=\"1\" class=\"dataframe\">\n",
              "  <thead>\n",
              "    <tr style=\"text-align: right;\">\n",
              "      <th></th>\n",
              "      <th>Breathing Problem</th>\n",
              "      <th>Fever</th>\n",
              "      <th>Dry Cough</th>\n",
              "      <th>Sore throat</th>\n",
              "      <th>Running Nose</th>\n",
              "      <th>Asthma</th>\n",
              "      <th>Chronic Lung Disease</th>\n",
              "      <th>Headache</th>\n",
              "      <th>Heart Disease</th>\n",
              "      <th>Diabetes</th>\n",
              "      <th>Hyper Tension</th>\n",
              "      <th>Fatigue</th>\n",
              "      <th>Gastrointestinal</th>\n",
              "      <th>Abroad travel</th>\n",
              "      <th>Contact with COVID Patient</th>\n",
              "      <th>Attended Large Gathering</th>\n",
              "      <th>Visited Public Exposed Places</th>\n",
              "      <th>Family working in Public Exposed Places</th>\n",
              "      <th>COVID-19</th>\n",
              "    </tr>\n",
              "  </thead>\n",
              "  <tbody>\n",
              "    <tr>\n",
              "      <th>0</th>\n",
              "      <td>Yes</td>\n",
              "      <td>Yes</td>\n",
              "      <td>Yes</td>\n",
              "      <td>Yes</td>\n",
              "      <td>Yes</td>\n",
              "      <td>No</td>\n",
              "      <td>No</td>\n",
              "      <td>No</td>\n",
              "      <td>No</td>\n",
              "      <td>Yes</td>\n",
              "      <td>Yes</td>\n",
              "      <td>Yes</td>\n",
              "      <td>Yes</td>\n",
              "      <td>No</td>\n",
              "      <td>Yes</td>\n",
              "      <td>No</td>\n",
              "      <td>Yes</td>\n",
              "      <td>Yes</td>\n",
              "      <td>Yes</td>\n",
              "    </tr>\n",
              "    <tr>\n",
              "      <th>1</th>\n",
              "      <td>Yes</td>\n",
              "      <td>Yes</td>\n",
              "      <td>Yes</td>\n",
              "      <td>Yes</td>\n",
              "      <td>No</td>\n",
              "      <td>Yes</td>\n",
              "      <td>Yes</td>\n",
              "      <td>Yes</td>\n",
              "      <td>No</td>\n",
              "      <td>No</td>\n",
              "      <td>No</td>\n",
              "      <td>Yes</td>\n",
              "      <td>No</td>\n",
              "      <td>No</td>\n",
              "      <td>No</td>\n",
              "      <td>Yes</td>\n",
              "      <td>Yes</td>\n",
              "      <td>No</td>\n",
              "      <td>Yes</td>\n",
              "    </tr>\n",
              "    <tr>\n",
              "      <th>2</th>\n",
              "      <td>Yes</td>\n",
              "      <td>Yes</td>\n",
              "      <td>Yes</td>\n",
              "      <td>Yes</td>\n",
              "      <td>Yes</td>\n",
              "      <td>Yes</td>\n",
              "      <td>Yes</td>\n",
              "      <td>Yes</td>\n",
              "      <td>No</td>\n",
              "      <td>Yes</td>\n",
              "      <td>No</td>\n",
              "      <td>Yes</td>\n",
              "      <td>Yes</td>\n",
              "      <td>Yes</td>\n",
              "      <td>No</td>\n",
              "      <td>No</td>\n",
              "      <td>No</td>\n",
              "      <td>No</td>\n",
              "      <td>Yes</td>\n",
              "    </tr>\n",
              "    <tr>\n",
              "      <th>3</th>\n",
              "      <td>Yes</td>\n",
              "      <td>Yes</td>\n",
              "      <td>Yes</td>\n",
              "      <td>No</td>\n",
              "      <td>No</td>\n",
              "      <td>Yes</td>\n",
              "      <td>No</td>\n",
              "      <td>No</td>\n",
              "      <td>Yes</td>\n",
              "      <td>Yes</td>\n",
              "      <td>No</td>\n",
              "      <td>No</td>\n",
              "      <td>No</td>\n",
              "      <td>Yes</td>\n",
              "      <td>No</td>\n",
              "      <td>Yes</td>\n",
              "      <td>Yes</td>\n",
              "      <td>No</td>\n",
              "      <td>Yes</td>\n",
              "    </tr>\n",
              "    <tr>\n",
              "      <th>4</th>\n",
              "      <td>Yes</td>\n",
              "      <td>Yes</td>\n",
              "      <td>Yes</td>\n",
              "      <td>Yes</td>\n",
              "      <td>Yes</td>\n",
              "      <td>No</td>\n",
              "      <td>Yes</td>\n",
              "      <td>Yes</td>\n",
              "      <td>Yes</td>\n",
              "      <td>Yes</td>\n",
              "      <td>Yes</td>\n",
              "      <td>No</td>\n",
              "      <td>Yes</td>\n",
              "      <td>No</td>\n",
              "      <td>Yes</td>\n",
              "      <td>No</td>\n",
              "      <td>Yes</td>\n",
              "      <td>No</td>\n",
              "      <td>Yes</td>\n",
              "    </tr>\n",
              "    <tr>\n",
              "      <th>...</th>\n",
              "      <td>...</td>\n",
              "      <td>...</td>\n",
              "      <td>...</td>\n",
              "      <td>...</td>\n",
              "      <td>...</td>\n",
              "      <td>...</td>\n",
              "      <td>...</td>\n",
              "      <td>...</td>\n",
              "      <td>...</td>\n",
              "      <td>...</td>\n",
              "      <td>...</td>\n",
              "      <td>...</td>\n",
              "      <td>...</td>\n",
              "      <td>...</td>\n",
              "      <td>...</td>\n",
              "      <td>...</td>\n",
              "      <td>...</td>\n",
              "      <td>...</td>\n",
              "      <td>...</td>\n",
              "    </tr>\n",
              "    <tr>\n",
              "      <th>5429</th>\n",
              "      <td>Yes</td>\n",
              "      <td>Yes</td>\n",
              "      <td>No</td>\n",
              "      <td>Yes</td>\n",
              "      <td>Yes</td>\n",
              "      <td>Yes</td>\n",
              "      <td>Yes</td>\n",
              "      <td>No</td>\n",
              "      <td>No</td>\n",
              "      <td>No</td>\n",
              "      <td>No</td>\n",
              "      <td>Yes</td>\n",
              "      <td>Yes</td>\n",
              "      <td>No</td>\n",
              "      <td>No</td>\n",
              "      <td>No</td>\n",
              "      <td>No</td>\n",
              "      <td>No</td>\n",
              "      <td>Yes</td>\n",
              "    </tr>\n",
              "    <tr>\n",
              "      <th>5430</th>\n",
              "      <td>Yes</td>\n",
              "      <td>Yes</td>\n",
              "      <td>Yes</td>\n",
              "      <td>No</td>\n",
              "      <td>Yes</td>\n",
              "      <td>Yes</td>\n",
              "      <td>No</td>\n",
              "      <td>Yes</td>\n",
              "      <td>No</td>\n",
              "      <td>Yes</td>\n",
              "      <td>Yes</td>\n",
              "      <td>Yes</td>\n",
              "      <td>No</td>\n",
              "      <td>No</td>\n",
              "      <td>No</td>\n",
              "      <td>No</td>\n",
              "      <td>No</td>\n",
              "      <td>No</td>\n",
              "      <td>Yes</td>\n",
              "    </tr>\n",
              "    <tr>\n",
              "      <th>5431</th>\n",
              "      <td>Yes</td>\n",
              "      <td>Yes</td>\n",
              "      <td>Yes</td>\n",
              "      <td>No</td>\n",
              "      <td>No</td>\n",
              "      <td>No</td>\n",
              "      <td>No</td>\n",
              "      <td>No</td>\n",
              "      <td>Yes</td>\n",
              "      <td>No</td>\n",
              "      <td>Yes</td>\n",
              "      <td>No</td>\n",
              "      <td>No</td>\n",
              "      <td>No</td>\n",
              "      <td>No</td>\n",
              "      <td>No</td>\n",
              "      <td>No</td>\n",
              "      <td>No</td>\n",
              "      <td>No</td>\n",
              "    </tr>\n",
              "    <tr>\n",
              "      <th>5432</th>\n",
              "      <td>Yes</td>\n",
              "      <td>Yes</td>\n",
              "      <td>Yes</td>\n",
              "      <td>No</td>\n",
              "      <td>Yes</td>\n",
              "      <td>No</td>\n",
              "      <td>No</td>\n",
              "      <td>Yes</td>\n",
              "      <td>Yes</td>\n",
              "      <td>No</td>\n",
              "      <td>No</td>\n",
              "      <td>No</td>\n",
              "      <td>No</td>\n",
              "      <td>No</td>\n",
              "      <td>No</td>\n",
              "      <td>No</td>\n",
              "      <td>No</td>\n",
              "      <td>No</td>\n",
              "      <td>No</td>\n",
              "    </tr>\n",
              "    <tr>\n",
              "      <th>5433</th>\n",
              "      <td>Yes</td>\n",
              "      <td>Yes</td>\n",
              "      <td>Yes</td>\n",
              "      <td>No</td>\n",
              "      <td>Yes</td>\n",
              "      <td>Yes</td>\n",
              "      <td>No</td>\n",
              "      <td>Yes</td>\n",
              "      <td>No</td>\n",
              "      <td>Yes</td>\n",
              "      <td>Yes</td>\n",
              "      <td>Yes</td>\n",
              "      <td>No</td>\n",
              "      <td>No</td>\n",
              "      <td>No</td>\n",
              "      <td>No</td>\n",
              "      <td>No</td>\n",
              "      <td>No</td>\n",
              "      <td>No</td>\n",
              "    </tr>\n",
              "  </tbody>\n",
              "</table>\n",
              "<p>5434 rows × 19 columns</p>\n",
              "</div>"
            ],
            "text/plain": [
              "     Breathing Problem Fever  ... Family working in Public Exposed Places COVID-19\n",
              "0                  Yes   Yes  ...                                     Yes      Yes\n",
              "1                  Yes   Yes  ...                                      No      Yes\n",
              "2                  Yes   Yes  ...                                      No      Yes\n",
              "3                  Yes   Yes  ...                                      No      Yes\n",
              "4                  Yes   Yes  ...                                      No      Yes\n",
              "...                ...   ...  ...                                     ...      ...\n",
              "5429               Yes   Yes  ...                                      No      Yes\n",
              "5430               Yes   Yes  ...                                      No      Yes\n",
              "5431               Yes   Yes  ...                                      No       No\n",
              "5432               Yes   Yes  ...                                      No       No\n",
              "5433               Yes   Yes  ...                                      No       No\n",
              "\n",
              "[5434 rows x 19 columns]"
            ]
          },
          "metadata": {
            "tags": []
          },
          "execution_count": 13
        }
      ]
    },
    {
      "cell_type": "code",
      "metadata": {
        "id": "zv3PCJ2kc4At"
      },
      "source": [
        "from sklearn.preprocessing import LabelEncoder\n",
        "e=LabelEncoder()"
      ],
      "execution_count": 45,
      "outputs": []
    },
    {
      "cell_type": "code",
      "metadata": {
        "id": "Zo_4TC_4c5-Z"
      },
      "source": [
        "##Transforming the dataframe values from string values of 'yes' and 'no' to int values '1' and '0' so we can use same for ML modelling\n",
        "Covid19['Breathing Problem']=e.fit_transform(Covid19['Breathing Problem'])\n",
        "Covid19['Fever']=e.fit_transform(Covid19['Fever'])\n",
        "Covid19['Dry Cough']=e.fit_transform(Covid19['Dry Cough'])\n",
        "Covid19['Sore throat']=e.fit_transform(Covid19['Sore throat'])\n",
        "Covid19['Running Nose']=e.fit_transform(Covid19['Running Nose'])\n",
        "Covid19['Asthma']=e.fit_transform(Covid19['Asthma'])\n",
        "Covid19['Chronic Lung Disease']=e.fit_transform(Covid19['Chronic Lung Disease'])\n",
        "Covid19['Headache']=e.fit_transform(Covid19['Headache'])\n",
        "Covid19['Heart Disease']=e.fit_transform(Covid19['Heart Disease'])\n",
        "Covid19['Diabetes']=e.fit_transform(Covid19['Diabetes'])\n",
        "Covid19['Hyper Tension']=e.fit_transform(Covid19['Hyper Tension'])\n",
        "Covid19['Abroad travel']=e.fit_transform(Covid19['Abroad travel'])\n",
        "Covid19['Contact with COVID Patient']=e.fit_transform(Covid19['Contact with COVID Patient'])\n",
        "Covid19['Attended Large Gathering']=e.fit_transform(Covid19['Attended Large Gathering'])\n",
        "Covid19['Visited Public Exposed Places']=e.fit_transform(Covid19['Visited Public Exposed Places'])\n",
        "Covid19['Family working in Public Exposed Places']=e.fit_transform(Covid19['Family working in Public Exposed Places'])\n",
        "Covid19['COVID-19']=e.fit_transform(Covid19['COVID-19'])\n",
        "Covid19['Gastrointestinal ']=e.fit_transform(Covid19['Gastrointestinal '])\n",
        "Covid19['Fatigue ']=e.fit_transform(Covid19['Fatigue '])"
      ],
      "execution_count": 47,
      "outputs": []
    },
    {
      "cell_type": "code",
      "metadata": {
        "colab": {
          "base_uri": "https://localhost:8080/",
          "height": 665
        },
        "id": "jHfH4aEMd6uM",
        "outputId": "8a7312dc-3476-4a4d-d7a2-3fcbdbec888e"
      },
      "source": [
        "corr=Covid19.corr()\n",
        "corr.style.background_gradient(cmap='coolwarm',axis=None)"
      ],
      "execution_count": 48,
      "outputs": [
        {
          "output_type": "execute_result",
          "data": {
            "text/html": [
              "<style  type=\"text/css\" >\n",
              "#T_b03fb512_c90a_11eb_8202_0242ac1c0002row0_col0,#T_b03fb512_c90a_11eb_8202_0242ac1c0002row1_col1,#T_b03fb512_c90a_11eb_8202_0242ac1c0002row2_col2,#T_b03fb512_c90a_11eb_8202_0242ac1c0002row3_col3,#T_b03fb512_c90a_11eb_8202_0242ac1c0002row4_col4,#T_b03fb512_c90a_11eb_8202_0242ac1c0002row5_col5,#T_b03fb512_c90a_11eb_8202_0242ac1c0002row6_col6,#T_b03fb512_c90a_11eb_8202_0242ac1c0002row7_col7,#T_b03fb512_c90a_11eb_8202_0242ac1c0002row8_col8,#T_b03fb512_c90a_11eb_8202_0242ac1c0002row9_col9,#T_b03fb512_c90a_11eb_8202_0242ac1c0002row10_col10,#T_b03fb512_c90a_11eb_8202_0242ac1c0002row11_col11,#T_b03fb512_c90a_11eb_8202_0242ac1c0002row12_col12,#T_b03fb512_c90a_11eb_8202_0242ac1c0002row13_col13,#T_b03fb512_c90a_11eb_8202_0242ac1c0002row14_col14,#T_b03fb512_c90a_11eb_8202_0242ac1c0002row15_col15,#T_b03fb512_c90a_11eb_8202_0242ac1c0002row16_col16,#T_b03fb512_c90a_11eb_8202_0242ac1c0002row17_col17,#T_b03fb512_c90a_11eb_8202_0242ac1c0002row18_col18{\n",
              "            background-color:  #b40426;\n",
              "            color:  #f1f1f1;\n",
              "        }#T_b03fb512_c90a_11eb_8202_0242ac1c0002row0_col1,#T_b03fb512_c90a_11eb_8202_0242ac1c0002row1_col0,#T_b03fb512_c90a_11eb_8202_0242ac1c0002row5_col18,#T_b03fb512_c90a_11eb_8202_0242ac1c0002row18_col5{\n",
              "            background-color:  #8caffe;\n",
              "            color:  #000000;\n",
              "        }#T_b03fb512_c90a_11eb_8202_0242ac1c0002row0_col2,#T_b03fb512_c90a_11eb_8202_0242ac1c0002row2_col0,#T_b03fb512_c90a_11eb_8202_0242ac1c0002row17_col18,#T_b03fb512_c90a_11eb_8202_0242ac1c0002row18_col17{\n",
              "            background-color:  #9fbfff;\n",
              "            color:  #000000;\n",
              "        }#T_b03fb512_c90a_11eb_8202_0242ac1c0002row0_col3,#T_b03fb512_c90a_11eb_8202_0242ac1c0002row3_col0{\n",
              "            background-color:  #c7d7f0;\n",
              "            color:  #000000;\n",
              "        }#T_b03fb512_c90a_11eb_8202_0242ac1c0002row0_col4,#T_b03fb512_c90a_11eb_8202_0242ac1c0002row0_col9,#T_b03fb512_c90a_11eb_8202_0242ac1c0002row4_col0,#T_b03fb512_c90a_11eb_8202_0242ac1c0002row7_col11,#T_b03fb512_c90a_11eb_8202_0242ac1c0002row9_col0,#T_b03fb512_c90a_11eb_8202_0242ac1c0002row11_col7{\n",
              "            background-color:  #81a4fb;\n",
              "            color:  #000000;\n",
              "        }#T_b03fb512_c90a_11eb_8202_0242ac1c0002row0_col5,#T_b03fb512_c90a_11eb_8202_0242ac1c0002row1_col5,#T_b03fb512_c90a_11eb_8202_0242ac1c0002row5_col0,#T_b03fb512_c90a_11eb_8202_0242ac1c0002row5_col1{\n",
              "            background-color:  #86a9fc;\n",
              "            color:  #000000;\n",
              "        }#T_b03fb512_c90a_11eb_8202_0242ac1c0002row0_col6,#T_b03fb512_c90a_11eb_8202_0242ac1c0002row6_col0{\n",
              "            background-color:  #5673e0;\n",
              "            color:  #000000;\n",
              "        }#T_b03fb512_c90a_11eb_8202_0242ac1c0002row0_col7,#T_b03fb512_c90a_11eb_8202_0242ac1c0002row4_col17,#T_b03fb512_c90a_11eb_8202_0242ac1c0002row6_col14,#T_b03fb512_c90a_11eb_8202_0242ac1c0002row7_col0,#T_b03fb512_c90a_11eb_8202_0242ac1c0002row9_col15,#T_b03fb512_c90a_11eb_8202_0242ac1c0002row12_col16,#T_b03fb512_c90a_11eb_8202_0242ac1c0002row14_col6,#T_b03fb512_c90a_11eb_8202_0242ac1c0002row15_col9,#T_b03fb512_c90a_11eb_8202_0242ac1c0002row16_col12,#T_b03fb512_c90a_11eb_8202_0242ac1c0002row17_col4{\n",
              "            background-color:  #5f7fe8;\n",
              "            color:  #000000;\n",
              "        }#T_b03fb512_c90a_11eb_8202_0242ac1c0002row0_col8,#T_b03fb512_c90a_11eb_8202_0242ac1c0002row0_col12,#T_b03fb512_c90a_11eb_8202_0242ac1c0002row8_col0,#T_b03fb512_c90a_11eb_8202_0242ac1c0002row12_col0{\n",
              "            background-color:  #5d7ce6;\n",
              "            color:  #000000;\n",
              "        }#T_b03fb512_c90a_11eb_8202_0242ac1c0002row0_col10,#T_b03fb512_c90a_11eb_8202_0242ac1c0002row3_col10,#T_b03fb512_c90a_11eb_8202_0242ac1c0002row4_col9,#T_b03fb512_c90a_11eb_8202_0242ac1c0002row6_col9,#T_b03fb512_c90a_11eb_8202_0242ac1c0002row7_col13,#T_b03fb512_c90a_11eb_8202_0242ac1c0002row9_col4,#T_b03fb512_c90a_11eb_8202_0242ac1c0002row9_col6,#T_b03fb512_c90a_11eb_8202_0242ac1c0002row9_col10,#T_b03fb512_c90a_11eb_8202_0242ac1c0002row10_col0,#T_b03fb512_c90a_11eb_8202_0242ac1c0002row10_col3,#T_b03fb512_c90a_11eb_8202_0242ac1c0002row10_col9,#T_b03fb512_c90a_11eb_8202_0242ac1c0002row13_col7{\n",
              "            background-color:  #7ea1fa;\n",
              "            color:  #000000;\n",
              "        }#T_b03fb512_c90a_11eb_8202_0242ac1c0002row0_col11,#T_b03fb512_c90a_11eb_8202_0242ac1c0002row1_col16,#T_b03fb512_c90a_11eb_8202_0242ac1c0002row3_col8,#T_b03fb512_c90a_11eb_8202_0242ac1c0002row3_col9,#T_b03fb512_c90a_11eb_8202_0242ac1c0002row4_col14,#T_b03fb512_c90a_11eb_8202_0242ac1c0002row8_col3,#T_b03fb512_c90a_11eb_8202_0242ac1c0002row8_col12,#T_b03fb512_c90a_11eb_8202_0242ac1c0002row9_col3,#T_b03fb512_c90a_11eb_8202_0242ac1c0002row10_col15,#T_b03fb512_c90a_11eb_8202_0242ac1c0002row11_col0,#T_b03fb512_c90a_11eb_8202_0242ac1c0002row12_col8,#T_b03fb512_c90a_11eb_8202_0242ac1c0002row14_col4,#T_b03fb512_c90a_11eb_8202_0242ac1c0002row15_col10,#T_b03fb512_c90a_11eb_8202_0242ac1c0002row16_col1{\n",
              "            background-color:  #7295f4;\n",
              "            color:  #000000;\n",
              "        }#T_b03fb512_c90a_11eb_8202_0242ac1c0002row0_col13,#T_b03fb512_c90a_11eb_8202_0242ac1c0002row2_col15,#T_b03fb512_c90a_11eb_8202_0242ac1c0002row13_col0,#T_b03fb512_c90a_11eb_8202_0242ac1c0002row13_col15,#T_b03fb512_c90a_11eb_8202_0242ac1c0002row15_col2,#T_b03fb512_c90a_11eb_8202_0242ac1c0002row15_col13{\n",
              "            background-color:  #93b5fe;\n",
              "            color:  #000000;\n",
              "        }#T_b03fb512_c90a_11eb_8202_0242ac1c0002row0_col14,#T_b03fb512_c90a_11eb_8202_0242ac1c0002row2_col3,#T_b03fb512_c90a_11eb_8202_0242ac1c0002row3_col2,#T_b03fb512_c90a_11eb_8202_0242ac1c0002row3_col15,#T_b03fb512_c90a_11eb_8202_0242ac1c0002row14_col0,#T_b03fb512_c90a_11eb_8202_0242ac1c0002row15_col3{\n",
              "            background-color:  #afcafc;\n",
              "            color:  #000000;\n",
              "        }#T_b03fb512_c90a_11eb_8202_0242ac1c0002row0_col15,#T_b03fb512_c90a_11eb_8202_0242ac1c0002row15_col0{\n",
              "            background-color:  #abc8fd;\n",
              "            color:  #000000;\n",
              "        }#T_b03fb512_c90a_11eb_8202_0242ac1c0002row0_col16,#T_b03fb512_c90a_11eb_8202_0242ac1c0002row1_col15,#T_b03fb512_c90a_11eb_8202_0242ac1c0002row4_col7,#T_b03fb512_c90a_11eb_8202_0242ac1c0002row5_col13,#T_b03fb512_c90a_11eb_8202_0242ac1c0002row7_col4,#T_b03fb512_c90a_11eb_8202_0242ac1c0002row13_col5,#T_b03fb512_c90a_11eb_8202_0242ac1c0002row13_col16,#T_b03fb512_c90a_11eb_8202_0242ac1c0002row15_col1,#T_b03fb512_c90a_11eb_8202_0242ac1c0002row16_col0,#T_b03fb512_c90a_11eb_8202_0242ac1c0002row16_col13{\n",
              "            background-color:  #85a8fc;\n",
              "            color:  #000000;\n",
              "        }#T_b03fb512_c90a_11eb_8202_0242ac1c0002row0_col17,#T_b03fb512_c90a_11eb_8202_0242ac1c0002row5_col10,#T_b03fb512_c90a_11eb_8202_0242ac1c0002row10_col5,#T_b03fb512_c90a_11eb_8202_0242ac1c0002row17_col0{\n",
              "            background-color:  #7699f6;\n",
              "            color:  #000000;\n",
              "        }#T_b03fb512_c90a_11eb_8202_0242ac1c0002row0_col18,#T_b03fb512_c90a_11eb_8202_0242ac1c0002row13_col18,#T_b03fb512_c90a_11eb_8202_0242ac1c0002row18_col0,#T_b03fb512_c90a_11eb_8202_0242ac1c0002row18_col13{\n",
              "            background-color:  #e7d7ce;\n",
              "            color:  #000000;\n",
              "        }#T_b03fb512_c90a_11eb_8202_0242ac1c0002row1_col2,#T_b03fb512_c90a_11eb_8202_0242ac1c0002row1_col13,#T_b03fb512_c90a_11eb_8202_0242ac1c0002row2_col1,#T_b03fb512_c90a_11eb_8202_0242ac1c0002row2_col14,#T_b03fb512_c90a_11eb_8202_0242ac1c0002row13_col1,#T_b03fb512_c90a_11eb_8202_0242ac1c0002row14_col2{\n",
              "            background-color:  #97b8ff;\n",
              "            color:  #000000;\n",
              "        }#T_b03fb512_c90a_11eb_8202_0242ac1c0002row1_col3,#T_b03fb512_c90a_11eb_8202_0242ac1c0002row3_col1{\n",
              "            background-color:  #ccd9ed;\n",
              "            color:  #000000;\n",
              "        }#T_b03fb512_c90a_11eb_8202_0242ac1c0002row1_col4,#T_b03fb512_c90a_11eb_8202_0242ac1c0002row2_col10,#T_b03fb512_c90a_11eb_8202_0242ac1c0002row3_col5,#T_b03fb512_c90a_11eb_8202_0242ac1c0002row4_col1,#T_b03fb512_c90a_11eb_8202_0242ac1c0002row5_col3,#T_b03fb512_c90a_11eb_8202_0242ac1c0002row10_col2,#T_b03fb512_c90a_11eb_8202_0242ac1c0002row15_col16,#T_b03fb512_c90a_11eb_8202_0242ac1c0002row16_col15{\n",
              "            background-color:  #89acfd;\n",
              "            color:  #000000;\n",
              "        }#T_b03fb512_c90a_11eb_8202_0242ac1c0002row1_col6,#T_b03fb512_c90a_11eb_8202_0242ac1c0002row6_col1,#T_b03fb512_c90a_11eb_8202_0242ac1c0002row7_col18,#T_b03fb512_c90a_11eb_8202_0242ac1c0002row8_col14,#T_b03fb512_c90a_11eb_8202_0242ac1c0002row10_col11,#T_b03fb512_c90a_11eb_8202_0242ac1c0002row11_col10,#T_b03fb512_c90a_11eb_8202_0242ac1c0002row11_col14,#T_b03fb512_c90a_11eb_8202_0242ac1c0002row11_col17,#T_b03fb512_c90a_11eb_8202_0242ac1c0002row12_col17,#T_b03fb512_c90a_11eb_8202_0242ac1c0002row14_col8,#T_b03fb512_c90a_11eb_8202_0242ac1c0002row14_col11,#T_b03fb512_c90a_11eb_8202_0242ac1c0002row17_col11,#T_b03fb512_c90a_11eb_8202_0242ac1c0002row17_col12,#T_b03fb512_c90a_11eb_8202_0242ac1c0002row18_col7{\n",
              "            background-color:  #6a8bef;\n",
              "            color:  #000000;\n",
              "        }#T_b03fb512_c90a_11eb_8202_0242ac1c0002row1_col7,#T_b03fb512_c90a_11eb_8202_0242ac1c0002row2_col7,#T_b03fb512_c90a_11eb_8202_0242ac1c0002row5_col6,#T_b03fb512_c90a_11eb_8202_0242ac1c0002row6_col5,#T_b03fb512_c90a_11eb_8202_0242ac1c0002row7_col1,#T_b03fb512_c90a_11eb_8202_0242ac1c0002row7_col2{\n",
              "            background-color:  #6788ee;\n",
              "            color:  #000000;\n",
              "        }#T_b03fb512_c90a_11eb_8202_0242ac1c0002row1_col8,#T_b03fb512_c90a_11eb_8202_0242ac1c0002row2_col4,#T_b03fb512_c90a_11eb_8202_0242ac1c0002row4_col2,#T_b03fb512_c90a_11eb_8202_0242ac1c0002row8_col1,#T_b03fb512_c90a_11eb_8202_0242ac1c0002row8_col9,#T_b03fb512_c90a_11eb_8202_0242ac1c0002row9_col8,#T_b03fb512_c90a_11eb_8202_0242ac1c0002row11_col15,#T_b03fb512_c90a_11eb_8202_0242ac1c0002row15_col11{\n",
              "            background-color:  #688aef;\n",
              "            color:  #000000;\n",
              "        }#T_b03fb512_c90a_11eb_8202_0242ac1c0002row1_col9,#T_b03fb512_c90a_11eb_8202_0242ac1c0002row2_col8,#T_b03fb512_c90a_11eb_8202_0242ac1c0002row7_col8,#T_b03fb512_c90a_11eb_8202_0242ac1c0002row8_col2,#T_b03fb512_c90a_11eb_8202_0242ac1c0002row8_col7,#T_b03fb512_c90a_11eb_8202_0242ac1c0002row8_col10,#T_b03fb512_c90a_11eb_8202_0242ac1c0002row9_col1,#T_b03fb512_c90a_11eb_8202_0242ac1c0002row10_col8,#T_b03fb512_c90a_11eb_8202_0242ac1c0002row10_col17,#T_b03fb512_c90a_11eb_8202_0242ac1c0002row17_col10{\n",
              "            background-color:  #80a3fa;\n",
              "            color:  #000000;\n",
              "        }#T_b03fb512_c90a_11eb_8202_0242ac1c0002row1_col10,#T_b03fb512_c90a_11eb_8202_0242ac1c0002row3_col16,#T_b03fb512_c90a_11eb_8202_0242ac1c0002row5_col8,#T_b03fb512_c90a_11eb_8202_0242ac1c0002row8_col5,#T_b03fb512_c90a_11eb_8202_0242ac1c0002row10_col1,#T_b03fb512_c90a_11eb_8202_0242ac1c0002row13_col14,#T_b03fb512_c90a_11eb_8202_0242ac1c0002row14_col13,#T_b03fb512_c90a_11eb_8202_0242ac1c0002row14_col16,#T_b03fb512_c90a_11eb_8202_0242ac1c0002row16_col3,#T_b03fb512_c90a_11eb_8202_0242ac1c0002row16_col14{\n",
              "            background-color:  #88abfd;\n",
              "            color:  #000000;\n",
              "        }#T_b03fb512_c90a_11eb_8202_0242ac1c0002row1_col11,#T_b03fb512_c90a_11eb_8202_0242ac1c0002row4_col8,#T_b03fb512_c90a_11eb_8202_0242ac1c0002row6_col18,#T_b03fb512_c90a_11eb_8202_0242ac1c0002row8_col4,#T_b03fb512_c90a_11eb_8202_0242ac1c0002row8_col11,#T_b03fb512_c90a_11eb_8202_0242ac1c0002row11_col1,#T_b03fb512_c90a_11eb_8202_0242ac1c0002row11_col8,#T_b03fb512_c90a_11eb_8202_0242ac1c0002row18_col6{\n",
              "            background-color:  #6180e9;\n",
              "            color:  #000000;\n",
              "        }#T_b03fb512_c90a_11eb_8202_0242ac1c0002row1_col12,#T_b03fb512_c90a_11eb_8202_0242ac1c0002row2_col9,#T_b03fb512_c90a_11eb_8202_0242ac1c0002row4_col18,#T_b03fb512_c90a_11eb_8202_0242ac1c0002row7_col16,#T_b03fb512_c90a_11eb_8202_0242ac1c0002row9_col2,#T_b03fb512_c90a_11eb_8202_0242ac1c0002row12_col1,#T_b03fb512_c90a_11eb_8202_0242ac1c0002row16_col7,#T_b03fb512_c90a_11eb_8202_0242ac1c0002row18_col4{\n",
              "            background-color:  #6f92f3;\n",
              "            color:  #000000;\n",
              "        }#T_b03fb512_c90a_11eb_8202_0242ac1c0002row1_col14,#T_b03fb512_c90a_11eb_8202_0242ac1c0002row2_col17,#T_b03fb512_c90a_11eb_8202_0242ac1c0002row14_col1,#T_b03fb512_c90a_11eb_8202_0242ac1c0002row17_col2{\n",
              "            background-color:  #a1c0ff;\n",
              "            color:  #000000;\n",
              "        }#T_b03fb512_c90a_11eb_8202_0242ac1c0002row1_col17,#T_b03fb512_c90a_11eb_8202_0242ac1c0002row17_col1{\n",
              "            background-color:  #7597f6;\n",
              "            color:  #000000;\n",
              "        }#T_b03fb512_c90a_11eb_8202_0242ac1c0002row1_col18,#T_b03fb512_c90a_11eb_8202_0242ac1c0002row18_col1{\n",
              "            background-color:  #d3dbe7;\n",
              "            color:  #000000;\n",
              "        }#T_b03fb512_c90a_11eb_8202_0242ac1c0002row2_col5,#T_b03fb512_c90a_11eb_8202_0242ac1c0002row2_col16,#T_b03fb512_c90a_11eb_8202_0242ac1c0002row5_col2,#T_b03fb512_c90a_11eb_8202_0242ac1c0002row8_col16,#T_b03fb512_c90a_11eb_8202_0242ac1c0002row16_col2,#T_b03fb512_c90a_11eb_8202_0242ac1c0002row16_col8{\n",
              "            background-color:  #8badfd;\n",
              "            color:  #000000;\n",
              "        }#T_b03fb512_c90a_11eb_8202_0242ac1c0002row2_col6,#T_b03fb512_c90a_11eb_8202_0242ac1c0002row5_col15,#T_b03fb512_c90a_11eb_8202_0242ac1c0002row6_col2,#T_b03fb512_c90a_11eb_8202_0242ac1c0002row8_col15,#T_b03fb512_c90a_11eb_8202_0242ac1c0002row9_col11,#T_b03fb512_c90a_11eb_8202_0242ac1c0002row11_col9,#T_b03fb512_c90a_11eb_8202_0242ac1c0002row11_col18,#T_b03fb512_c90a_11eb_8202_0242ac1c0002row15_col5,#T_b03fb512_c90a_11eb_8202_0242ac1c0002row15_col8,#T_b03fb512_c90a_11eb_8202_0242ac1c0002row18_col11{\n",
              "            background-color:  #6485ec;\n",
              "            color:  #000000;\n",
              "        }#T_b03fb512_c90a_11eb_8202_0242ac1c0002row2_col11,#T_b03fb512_c90a_11eb_8202_0242ac1c0002row6_col8,#T_b03fb512_c90a_11eb_8202_0242ac1c0002row8_col6,#T_b03fb512_c90a_11eb_8202_0242ac1c0002row11_col2{\n",
              "            background-color:  #6687ed;\n",
              "            color:  #000000;\n",
              "        }#T_b03fb512_c90a_11eb_8202_0242ac1c0002row2_col12,#T_b03fb512_c90a_11eb_8202_0242ac1c0002row4_col11,#T_b03fb512_c90a_11eb_8202_0242ac1c0002row5_col11,#T_b03fb512_c90a_11eb_8202_0242ac1c0002row5_col14,#T_b03fb512_c90a_11eb_8202_0242ac1c0002row11_col4,#T_b03fb512_c90a_11eb_8202_0242ac1c0002row11_col5,#T_b03fb512_c90a_11eb_8202_0242ac1c0002row11_col12,#T_b03fb512_c90a_11eb_8202_0242ac1c0002row12_col2,#T_b03fb512_c90a_11eb_8202_0242ac1c0002row12_col11,#T_b03fb512_c90a_11eb_8202_0242ac1c0002row14_col5,#T_b03fb512_c90a_11eb_8202_0242ac1c0002row14_col17,#T_b03fb512_c90a_11eb_8202_0242ac1c0002row17_col14{\n",
              "            background-color:  #7396f5;\n",
              "            color:  #000000;\n",
              "        }#T_b03fb512_c90a_11eb_8202_0242ac1c0002row2_col13,#T_b03fb512_c90a_11eb_8202_0242ac1c0002row13_col2{\n",
              "            background-color:  #cedaeb;\n",
              "            color:  #000000;\n",
              "        }#T_b03fb512_c90a_11eb_8202_0242ac1c0002row2_col18,#T_b03fb512_c90a_11eb_8202_0242ac1c0002row18_col2{\n",
              "            background-color:  #ead4c8;\n",
              "            color:  #000000;\n",
              "        }#T_b03fb512_c90a_11eb_8202_0242ac1c0002row3_col4,#T_b03fb512_c90a_11eb_8202_0242ac1c0002row4_col3,#T_b03fb512_c90a_11eb_8202_0242ac1c0002row6_col17,#T_b03fb512_c90a_11eb_8202_0242ac1c0002row9_col12,#T_b03fb512_c90a_11eb_8202_0242ac1c0002row9_col13,#T_b03fb512_c90a_11eb_8202_0242ac1c0002row9_col18,#T_b03fb512_c90a_11eb_8202_0242ac1c0002row12_col9,#T_b03fb512_c90a_11eb_8202_0242ac1c0002row13_col9,#T_b03fb512_c90a_11eb_8202_0242ac1c0002row17_col6,#T_b03fb512_c90a_11eb_8202_0242ac1c0002row18_col9{\n",
              "            background-color:  #7da0f9;\n",
              "            color:  #000000;\n",
              "        }#T_b03fb512_c90a_11eb_8202_0242ac1c0002row3_col6,#T_b03fb512_c90a_11eb_8202_0242ac1c0002row6_col3,#T_b03fb512_c90a_11eb_8202_0242ac1c0002row6_col7,#T_b03fb512_c90a_11eb_8202_0242ac1c0002row6_col11,#T_b03fb512_c90a_11eb_8202_0242ac1c0002row6_col12,#T_b03fb512_c90a_11eb_8202_0242ac1c0002row7_col6,#T_b03fb512_c90a_11eb_8202_0242ac1c0002row11_col6,#T_b03fb512_c90a_11eb_8202_0242ac1c0002row12_col6{\n",
              "            background-color:  #6384eb;\n",
              "            color:  #000000;\n",
              "        }#T_b03fb512_c90a_11eb_8202_0242ac1c0002row3_col7,#T_b03fb512_c90a_11eb_8202_0242ac1c0002row4_col6,#T_b03fb512_c90a_11eb_8202_0242ac1c0002row4_col12,#T_b03fb512_c90a_11eb_8202_0242ac1c0002row6_col4,#T_b03fb512_c90a_11eb_8202_0242ac1c0002row7_col3,#T_b03fb512_c90a_11eb_8202_0242ac1c0002row10_col13,#T_b03fb512_c90a_11eb_8202_0242ac1c0002row12_col4,#T_b03fb512_c90a_11eb_8202_0242ac1c0002row12_col15,#T_b03fb512_c90a_11eb_8202_0242ac1c0002row13_col10,#T_b03fb512_c90a_11eb_8202_0242ac1c0002row15_col12{\n",
              "            background-color:  #6c8ff1;\n",
              "            color:  #000000;\n",
              "        }#T_b03fb512_c90a_11eb_8202_0242ac1c0002row3_col11,#T_b03fb512_c90a_11eb_8202_0242ac1c0002row4_col5,#T_b03fb512_c90a_11eb_8202_0242ac1c0002row4_col10,#T_b03fb512_c90a_11eb_8202_0242ac1c0002row5_col4,#T_b03fb512_c90a_11eb_8202_0242ac1c0002row6_col15,#T_b03fb512_c90a_11eb_8202_0242ac1c0002row8_col13,#T_b03fb512_c90a_11eb_8202_0242ac1c0002row10_col4,#T_b03fb512_c90a_11eb_8202_0242ac1c0002row11_col3,#T_b03fb512_c90a_11eb_8202_0242ac1c0002row13_col8,#T_b03fb512_c90a_11eb_8202_0242ac1c0002row15_col6{\n",
              "            background-color:  #6b8df0;\n",
              "            color:  #000000;\n",
              "        }#T_b03fb512_c90a_11eb_8202_0242ac1c0002row3_col12,#T_b03fb512_c90a_11eb_8202_0242ac1c0002row8_col18,#T_b03fb512_c90a_11eb_8202_0242ac1c0002row10_col14,#T_b03fb512_c90a_11eb_8202_0242ac1c0002row12_col3,#T_b03fb512_c90a_11eb_8202_0242ac1c0002row12_col14,#T_b03fb512_c90a_11eb_8202_0242ac1c0002row14_col10,#T_b03fb512_c90a_11eb_8202_0242ac1c0002row14_col12,#T_b03fb512_c90a_11eb_8202_0242ac1c0002row18_col8{\n",
              "            background-color:  #799cf8;\n",
              "            color:  #000000;\n",
              "        }#T_b03fb512_c90a_11eb_8202_0242ac1c0002row3_col13,#T_b03fb512_c90a_11eb_8202_0242ac1c0002row13_col3{\n",
              "            background-color:  #adc9fd;\n",
              "            color:  #000000;\n",
              "        }#T_b03fb512_c90a_11eb_8202_0242ac1c0002row3_col14,#T_b03fb512_c90a_11eb_8202_0242ac1c0002row14_col3{\n",
              "            background-color:  #a9c6fd;\n",
              "            color:  #000000;\n",
              "        }#T_b03fb512_c90a_11eb_8202_0242ac1c0002row3_col17,#T_b03fb512_c90a_11eb_8202_0242ac1c0002row17_col3{\n",
              "            background-color:  #90b2fe;\n",
              "            color:  #000000;\n",
              "        }#T_b03fb512_c90a_11eb_8202_0242ac1c0002row3_col18,#T_b03fb512_c90a_11eb_8202_0242ac1c0002row18_col3{\n",
              "            background-color:  #f0cdbb;\n",
              "            color:  #000000;\n",
              "        }#T_b03fb512_c90a_11eb_8202_0242ac1c0002row4_col13,#T_b03fb512_c90a_11eb_8202_0242ac1c0002row5_col7,#T_b03fb512_c90a_11eb_8202_0242ac1c0002row7_col5,#T_b03fb512_c90a_11eb_8202_0242ac1c0002row8_col17,#T_b03fb512_c90a_11eb_8202_0242ac1c0002row13_col4,#T_b03fb512_c90a_11eb_8202_0242ac1c0002row17_col8{\n",
              "            background-color:  #7b9ff9;\n",
              "            color:  #000000;\n",
              "        }#T_b03fb512_c90a_11eb_8202_0242ac1c0002row4_col15,#T_b03fb512_c90a_11eb_8202_0242ac1c0002row15_col4{\n",
              "            background-color:  #82a6fb;\n",
              "            color:  #000000;\n",
              "        }#T_b03fb512_c90a_11eb_8202_0242ac1c0002row4_col16,#T_b03fb512_c90a_11eb_8202_0242ac1c0002row7_col9,#T_b03fb512_c90a_11eb_8202_0242ac1c0002row9_col7,#T_b03fb512_c90a_11eb_8202_0242ac1c0002row16_col4,#T_b03fb512_c90a_11eb_8202_0242ac1c0002row16_col17,#T_b03fb512_c90a_11eb_8202_0242ac1c0002row17_col16{\n",
              "            background-color:  #7a9df8;\n",
              "            color:  #000000;\n",
              "        }#T_b03fb512_c90a_11eb_8202_0242ac1c0002row5_col9,#T_b03fb512_c90a_11eb_8202_0242ac1c0002row6_col10,#T_b03fb512_c90a_11eb_8202_0242ac1c0002row7_col17,#T_b03fb512_c90a_11eb_8202_0242ac1c0002row9_col5,#T_b03fb512_c90a_11eb_8202_0242ac1c0002row10_col6,#T_b03fb512_c90a_11eb_8202_0242ac1c0002row11_col16,#T_b03fb512_c90a_11eb_8202_0242ac1c0002row16_col11,#T_b03fb512_c90a_11eb_8202_0242ac1c0002row17_col7{\n",
              "            background-color:  #6e90f2;\n",
              "            color:  #000000;\n",
              "        }#T_b03fb512_c90a_11eb_8202_0242ac1c0002row5_col12,#T_b03fb512_c90a_11eb_8202_0242ac1c0002row10_col18,#T_b03fb512_c90a_11eb_8202_0242ac1c0002row12_col5,#T_b03fb512_c90a_11eb_8202_0242ac1c0002row12_col13,#T_b03fb512_c90a_11eb_8202_0242ac1c0002row13_col12,#T_b03fb512_c90a_11eb_8202_0242ac1c0002row18_col10{\n",
              "            background-color:  #8fb1fe;\n",
              "            color:  #000000;\n",
              "        }#T_b03fb512_c90a_11eb_8202_0242ac1c0002row5_col16,#T_b03fb512_c90a_11eb_8202_0242ac1c0002row10_col16,#T_b03fb512_c90a_11eb_8202_0242ac1c0002row16_col5,#T_b03fb512_c90a_11eb_8202_0242ac1c0002row16_col10{\n",
              "            background-color:  #779af7;\n",
              "            color:  #000000;\n",
              "        }#T_b03fb512_c90a_11eb_8202_0242ac1c0002row5_col17,#T_b03fb512_c90a_11eb_8202_0242ac1c0002row17_col5{\n",
              "            background-color:  #516ddb;\n",
              "            color:  #000000;\n",
              "        }#T_b03fb512_c90a_11eb_8202_0242ac1c0002row6_col13,#T_b03fb512_c90a_11eb_8202_0242ac1c0002row9_col14,#T_b03fb512_c90a_11eb_8202_0242ac1c0002row13_col6,#T_b03fb512_c90a_11eb_8202_0242ac1c0002row14_col9{\n",
              "            background-color:  #5977e3;\n",
              "            color:  #000000;\n",
              "        }#T_b03fb512_c90a_11eb_8202_0242ac1c0002row6_col16,#T_b03fb512_c90a_11eb_8202_0242ac1c0002row16_col6{\n",
              "            background-color:  #5875e1;\n",
              "            color:  #000000;\n",
              "        }#T_b03fb512_c90a_11eb_8202_0242ac1c0002row7_col10,#T_b03fb512_c90a_11eb_8202_0242ac1c0002row10_col7{\n",
              "            background-color:  #3b4cc0;\n",
              "            color:  #f1f1f1;\n",
              "        }#T_b03fb512_c90a_11eb_8202_0242ac1c0002row7_col12,#T_b03fb512_c90a_11eb_8202_0242ac1c0002row9_col17,#T_b03fb512_c90a_11eb_8202_0242ac1c0002row12_col7,#T_b03fb512_c90a_11eb_8202_0242ac1c0002row17_col9{\n",
              "            background-color:  #8db0fe;\n",
              "            color:  #000000;\n",
              "        }#T_b03fb512_c90a_11eb_8202_0242ac1c0002row7_col14,#T_b03fb512_c90a_11eb_8202_0242ac1c0002row14_col7{\n",
              "            background-color:  #5a78e4;\n",
              "            color:  #000000;\n",
              "        }#T_b03fb512_c90a_11eb_8202_0242ac1c0002row7_col15,#T_b03fb512_c90a_11eb_8202_0242ac1c0002row15_col7{\n",
              "            background-color:  #455cce;\n",
              "            color:  #f1f1f1;\n",
              "        }#T_b03fb512_c90a_11eb_8202_0242ac1c0002row9_col16,#T_b03fb512_c90a_11eb_8202_0242ac1c0002row16_col9{\n",
              "            background-color:  #5b7ae5;\n",
              "            color:  #000000;\n",
              "        }#T_b03fb512_c90a_11eb_8202_0242ac1c0002row10_col12,#T_b03fb512_c90a_11eb_8202_0242ac1c0002row11_col13,#T_b03fb512_c90a_11eb_8202_0242ac1c0002row12_col10,#T_b03fb512_c90a_11eb_8202_0242ac1c0002row13_col11{\n",
              "            background-color:  #5e7de7;\n",
              "            color:  #000000;\n",
              "        }#T_b03fb512_c90a_11eb_8202_0242ac1c0002row12_col18,#T_b03fb512_c90a_11eb_8202_0242ac1c0002row18_col12{\n",
              "            background-color:  #7093f3;\n",
              "            color:  #000000;\n",
              "        }#T_b03fb512_c90a_11eb_8202_0242ac1c0002row13_col17,#T_b03fb512_c90a_11eb_8202_0242ac1c0002row17_col13{\n",
              "            background-color:  #9bbcff;\n",
              "            color:  #000000;\n",
              "        }#T_b03fb512_c90a_11eb_8202_0242ac1c0002row14_col15,#T_b03fb512_c90a_11eb_8202_0242ac1c0002row15_col14{\n",
              "            background-color:  #b5cdfa;\n",
              "            color:  #000000;\n",
              "        }#T_b03fb512_c90a_11eb_8202_0242ac1c0002row14_col18,#T_b03fb512_c90a_11eb_8202_0242ac1c0002row18_col14{\n",
              "            background-color:  #d4dbe6;\n",
              "            color:  #000000;\n",
              "        }#T_b03fb512_c90a_11eb_8202_0242ac1c0002row15_col17,#T_b03fb512_c90a_11eb_8202_0242ac1c0002row17_col15{\n",
              "            background-color:  #84a7fc;\n",
              "            color:  #000000;\n",
              "        }#T_b03fb512_c90a_11eb_8202_0242ac1c0002row15_col18,#T_b03fb512_c90a_11eb_8202_0242ac1c0002row18_col15{\n",
              "            background-color:  #dbdcde;\n",
              "            color:  #000000;\n",
              "        }#T_b03fb512_c90a_11eb_8202_0242ac1c0002row16_col18,#T_b03fb512_c90a_11eb_8202_0242ac1c0002row18_col16{\n",
              "            background-color:  #94b6ff;\n",
              "            color:  #000000;\n",
              "        }</style><table id=\"T_b03fb512_c90a_11eb_8202_0242ac1c0002\" ><thead>    <tr>        <th class=\"blank level0\" ></th>        <th class=\"col_heading level0 col0\" >Breathing Problem</th>        <th class=\"col_heading level0 col1\" >Fever</th>        <th class=\"col_heading level0 col2\" >Dry Cough</th>        <th class=\"col_heading level0 col3\" >Sore throat</th>        <th class=\"col_heading level0 col4\" >Running Nose</th>        <th class=\"col_heading level0 col5\" >Asthma</th>        <th class=\"col_heading level0 col6\" >Chronic Lung Disease</th>        <th class=\"col_heading level0 col7\" >Headache</th>        <th class=\"col_heading level0 col8\" >Heart Disease</th>        <th class=\"col_heading level0 col9\" >Diabetes</th>        <th class=\"col_heading level0 col10\" >Hyper Tension</th>        <th class=\"col_heading level0 col11\" >Fatigue </th>        <th class=\"col_heading level0 col12\" >Gastrointestinal </th>        <th class=\"col_heading level0 col13\" >Abroad travel</th>        <th class=\"col_heading level0 col14\" >Contact with COVID Patient</th>        <th class=\"col_heading level0 col15\" >Attended Large Gathering</th>        <th class=\"col_heading level0 col16\" >Visited Public Exposed Places</th>        <th class=\"col_heading level0 col17\" >Family working in Public Exposed Places</th>        <th class=\"col_heading level0 col18\" >COVID-19</th>    </tr></thead><tbody>\n",
              "                <tr>\n",
              "                        <th id=\"T_b03fb512_c90a_11eb_8202_0242ac1c0002level0_row0\" class=\"row_heading level0 row0\" >Breathing Problem</th>\n",
              "                        <td id=\"T_b03fb512_c90a_11eb_8202_0242ac1c0002row0_col0\" class=\"data row0 col0\" >1.000000</td>\n",
              "                        <td id=\"T_b03fb512_c90a_11eb_8202_0242ac1c0002row0_col1\" class=\"data row0 col1\" >0.089903</td>\n",
              "                        <td id=\"T_b03fb512_c90a_11eb_8202_0242ac1c0002row0_col2\" class=\"data row0 col2\" >0.159562</td>\n",
              "                        <td id=\"T_b03fb512_c90a_11eb_8202_0242ac1c0002row0_col3\" class=\"data row0 col3\" >0.303768</td>\n",
              "                        <td id=\"T_b03fb512_c90a_11eb_8202_0242ac1c0002row0_col4\" class=\"data row0 col4\" >0.055190</td>\n",
              "                        <td id=\"T_b03fb512_c90a_11eb_8202_0242ac1c0002row0_col5\" class=\"data row0 col5\" >0.075318</td>\n",
              "                        <td id=\"T_b03fb512_c90a_11eb_8202_0242ac1c0002row0_col6\" class=\"data row0 col6\" >-0.098291</td>\n",
              "                        <td id=\"T_b03fb512_c90a_11eb_8202_0242ac1c0002row0_col7\" class=\"data row0 col7\" >-0.062172</td>\n",
              "                        <td id=\"T_b03fb512_c90a_11eb_8202_0242ac1c0002row0_col8\" class=\"data row0 col8\" >-0.073366</td>\n",
              "                        <td id=\"T_b03fb512_c90a_11eb_8202_0242ac1c0002row0_col9\" class=\"data row0 col9\" >0.055427</td>\n",
              "                        <td id=\"T_b03fb512_c90a_11eb_8202_0242ac1c0002row0_col10\" class=\"data row0 col10\" >0.045256</td>\n",
              "                        <td id=\"T_b03fb512_c90a_11eb_8202_0242ac1c0002row0_col11\" class=\"data row0 col11\" >0.000561</td>\n",
              "                        <td id=\"T_b03fb512_c90a_11eb_8202_0242ac1c0002row0_col12\" class=\"data row0 col12\" >-0.075390</td>\n",
              "                        <td id=\"T_b03fb512_c90a_11eb_8202_0242ac1c0002row0_col13\" class=\"data row0 col13\" >0.117795</td>\n",
              "                        <td id=\"T_b03fb512_c90a_11eb_8202_0242ac1c0002row0_col14\" class=\"data row0 col14\" >0.214634</td>\n",
              "                        <td id=\"T_b03fb512_c90a_11eb_8202_0242ac1c0002row0_col15\" class=\"data row0 col15\" >0.200304</td>\n",
              "                        <td id=\"T_b03fb512_c90a_11eb_8202_0242ac1c0002row0_col16\" class=\"data row0 col16\" >0.066688</td>\n",
              "                        <td id=\"T_b03fb512_c90a_11eb_8202_0242ac1c0002row0_col17\" class=\"data row0 col17\" >0.018295</td>\n",
              "                        <td id=\"T_b03fb512_c90a_11eb_8202_0242ac1c0002row0_col18\" class=\"data row0 col18\" >0.443764</td>\n",
              "            </tr>\n",
              "            <tr>\n",
              "                        <th id=\"T_b03fb512_c90a_11eb_8202_0242ac1c0002level0_row1\" class=\"row_heading level0 row1\" >Fever</th>\n",
              "                        <td id=\"T_b03fb512_c90a_11eb_8202_0242ac1c0002row1_col0\" class=\"data row1 col0\" >0.089903</td>\n",
              "                        <td id=\"T_b03fb512_c90a_11eb_8202_0242ac1c0002row1_col1\" class=\"data row1 col1\" >1.000000</td>\n",
              "                        <td id=\"T_b03fb512_c90a_11eb_8202_0242ac1c0002row1_col2\" class=\"data row1 col2\" >0.127580</td>\n",
              "                        <td id=\"T_b03fb512_c90a_11eb_8202_0242ac1c0002row1_col3\" class=\"data row1 col3\" >0.322235</td>\n",
              "                        <td id=\"T_b03fb512_c90a_11eb_8202_0242ac1c0002row1_col4\" class=\"data row1 col4\" >0.081758</td>\n",
              "                        <td id=\"T_b03fb512_c90a_11eb_8202_0242ac1c0002row1_col5\" class=\"data row1 col5\" >0.073953</td>\n",
              "                        <td id=\"T_b03fb512_c90a_11eb_8202_0242ac1c0002row1_col6\" class=\"data row1 col6\" >-0.025160</td>\n",
              "                        <td id=\"T_b03fb512_c90a_11eb_8202_0242ac1c0002row1_col7\" class=\"data row1 col7\" >-0.035416</td>\n",
              "                        <td id=\"T_b03fb512_c90a_11eb_8202_0242ac1c0002row1_col8\" class=\"data row1 col8\" >-0.031462</td>\n",
              "                        <td id=\"T_b03fb512_c90a_11eb_8202_0242ac1c0002row1_col9\" class=\"data row1 col9\" >0.050286</td>\n",
              "                        <td id=\"T_b03fb512_c90a_11eb_8202_0242ac1c0002row1_col10\" class=\"data row1 col10\" >0.079001</td>\n",
              "                        <td id=\"T_b03fb512_c90a_11eb_8202_0242ac1c0002row1_col11\" class=\"data row1 col11\" >-0.060458</td>\n",
              "                        <td id=\"T_b03fb512_c90a_11eb_8202_0242ac1c0002row1_col12\" class=\"data row1 col12\" >-0.008067</td>\n",
              "                        <td id=\"T_b03fb512_c90a_11eb_8202_0242ac1c0002row1_col13\" class=\"data row1 col13\" >0.128726</td>\n",
              "                        <td id=\"T_b03fb512_c90a_11eb_8202_0242ac1c0002row1_col14\" class=\"data row1 col14\" >0.164704</td>\n",
              "                        <td id=\"T_b03fb512_c90a_11eb_8202_0242ac1c0002row1_col15\" class=\"data row1 col15\" >0.070490</td>\n",
              "                        <td id=\"T_b03fb512_c90a_11eb_8202_0242ac1c0002row1_col16\" class=\"data row1 col16\" >0.002252</td>\n",
              "                        <td id=\"T_b03fb512_c90a_11eb_8202_0242ac1c0002row1_col17\" class=\"data row1 col17\" >0.012102</td>\n",
              "                        <td id=\"T_b03fb512_c90a_11eb_8202_0242ac1c0002row1_col18\" class=\"data row1 col18\" >0.352891</td>\n",
              "            </tr>\n",
              "            <tr>\n",
              "                        <th id=\"T_b03fb512_c90a_11eb_8202_0242ac1c0002level0_row2\" class=\"row_heading level0 row2\" >Dry Cough</th>\n",
              "                        <td id=\"T_b03fb512_c90a_11eb_8202_0242ac1c0002row2_col0\" class=\"data row2 col0\" >0.159562</td>\n",
              "                        <td id=\"T_b03fb512_c90a_11eb_8202_0242ac1c0002row2_col1\" class=\"data row2 col1\" >0.127580</td>\n",
              "                        <td id=\"T_b03fb512_c90a_11eb_8202_0242ac1c0002row2_col2\" class=\"data row2 col2\" >1.000000</td>\n",
              "                        <td id=\"T_b03fb512_c90a_11eb_8202_0242ac1c0002row2_col3\" class=\"data row2 col3\" >0.213907</td>\n",
              "                        <td id=\"T_b03fb512_c90a_11eb_8202_0242ac1c0002row2_col4\" class=\"data row2 col4\" >-0.030763</td>\n",
              "                        <td id=\"T_b03fb512_c90a_11eb_8202_0242ac1c0002row2_col5\" class=\"data row2 col5\" >0.086843</td>\n",
              "                        <td id=\"T_b03fb512_c90a_11eb_8202_0242ac1c0002row2_col6\" class=\"data row2 col6\" >-0.043664</td>\n",
              "                        <td id=\"T_b03fb512_c90a_11eb_8202_0242ac1c0002row2_col7\" class=\"data row2 col7\" >-0.035912</td>\n",
              "                        <td id=\"T_b03fb512_c90a_11eb_8202_0242ac1c0002row2_col8\" class=\"data row2 col8\" >0.047566</td>\n",
              "                        <td id=\"T_b03fb512_c90a_11eb_8202_0242ac1c0002row2_col9\" class=\"data row2 col9\" >-0.006593</td>\n",
              "                        <td id=\"T_b03fb512_c90a_11eb_8202_0242ac1c0002row2_col10\" class=\"data row2 col10\" >0.081989</td>\n",
              "                        <td id=\"T_b03fb512_c90a_11eb_8202_0242ac1c0002row2_col11\" class=\"data row2 col11\" >-0.039909</td>\n",
              "                        <td id=\"T_b03fb512_c90a_11eb_8202_0242ac1c0002row2_col12\" class=\"data row2 col12\" >0.008251</td>\n",
              "                        <td id=\"T_b03fb512_c90a_11eb_8202_0242ac1c0002row2_col13\" class=\"data row2 col13\" >0.331418</td>\n",
              "                        <td id=\"T_b03fb512_c90a_11eb_8202_0242ac1c0002row2_col14\" class=\"data row2 col14\" >0.128330</td>\n",
              "                        <td id=\"T_b03fb512_c90a_11eb_8202_0242ac1c0002row2_col15\" class=\"data row2 col15\" >0.117963</td>\n",
              "                        <td id=\"T_b03fb512_c90a_11eb_8202_0242ac1c0002row2_col16\" class=\"data row2 col16\" >0.086176</td>\n",
              "                        <td id=\"T_b03fb512_c90a_11eb_8202_0242ac1c0002row2_col17\" class=\"data row2 col17\" >0.163102</td>\n",
              "                        <td id=\"T_b03fb512_c90a_11eb_8202_0242ac1c0002row2_col18\" class=\"data row2 col18\" >0.464292</td>\n",
              "            </tr>\n",
              "            <tr>\n",
              "                        <th id=\"T_b03fb512_c90a_11eb_8202_0242ac1c0002level0_row3\" class=\"row_heading level0 row3\" >Sore throat</th>\n",
              "                        <td id=\"T_b03fb512_c90a_11eb_8202_0242ac1c0002row3_col0\" class=\"data row3 col0\" >0.303768</td>\n",
              "                        <td id=\"T_b03fb512_c90a_11eb_8202_0242ac1c0002row3_col1\" class=\"data row3 col1\" >0.322235</td>\n",
              "                        <td id=\"T_b03fb512_c90a_11eb_8202_0242ac1c0002row3_col2\" class=\"data row3 col2\" >0.213907</td>\n",
              "                        <td id=\"T_b03fb512_c90a_11eb_8202_0242ac1c0002row3_col3\" class=\"data row3 col3\" >1.000000</td>\n",
              "                        <td id=\"T_b03fb512_c90a_11eb_8202_0242ac1c0002row3_col4\" class=\"data row3 col4\" >0.039450</td>\n",
              "                        <td id=\"T_b03fb512_c90a_11eb_8202_0242ac1c0002row3_col5\" class=\"data row3 col5\" >0.081377</td>\n",
              "                        <td id=\"T_b03fb512_c90a_11eb_8202_0242ac1c0002row3_col6\" class=\"data row3 col6\" >-0.050440</td>\n",
              "                        <td id=\"T_b03fb512_c90a_11eb_8202_0242ac1c0002row3_col7\" class=\"data row3 col7\" >-0.015971</td>\n",
              "                        <td id=\"T_b03fb512_c90a_11eb_8202_0242ac1c0002row3_col8\" class=\"data row3 col8\" >0.002177</td>\n",
              "                        <td id=\"T_b03fb512_c90a_11eb_8202_0242ac1c0002row3_col9\" class=\"data row3 col9\" >0.001938</td>\n",
              "                        <td id=\"T_b03fb512_c90a_11eb_8202_0242ac1c0002row3_col10\" class=\"data row3 col10\" >0.042811</td>\n",
              "                        <td id=\"T_b03fb512_c90a_11eb_8202_0242ac1c0002row3_col11\" class=\"data row3 col11\" >-0.023290</td>\n",
              "                        <td id=\"T_b03fb512_c90a_11eb_8202_0242ac1c0002row3_col12\" class=\"data row3 col12\" >0.025886</td>\n",
              "                        <td id=\"T_b03fb512_c90a_11eb_8202_0242ac1c0002row3_col13\" class=\"data row3 col13\" >0.205986</td>\n",
              "                        <td id=\"T_b03fb512_c90a_11eb_8202_0242ac1c0002row3_col14\" class=\"data row3 col14\" >0.189251</td>\n",
              "                        <td id=\"T_b03fb512_c90a_11eb_8202_0242ac1c0002row3_col15\" class=\"data row3 col15\" >0.216438</td>\n",
              "                        <td id=\"T_b03fb512_c90a_11eb_8202_0242ac1c0002row3_col16\" class=\"data row3 col16\" >0.079055</td>\n",
              "                        <td id=\"T_b03fb512_c90a_11eb_8202_0242ac1c0002row3_col17\" class=\"data row3 col17\" >0.104378</td>\n",
              "                        <td id=\"T_b03fb512_c90a_11eb_8202_0242ac1c0002row3_col18\" class=\"data row3 col18\" >0.502848</td>\n",
              "            </tr>\n",
              "            <tr>\n",
              "                        <th id=\"T_b03fb512_c90a_11eb_8202_0242ac1c0002level0_row4\" class=\"row_heading level0 row4\" >Running Nose</th>\n",
              "                        <td id=\"T_b03fb512_c90a_11eb_8202_0242ac1c0002row4_col0\" class=\"data row4 col0\" >0.055190</td>\n",
              "                        <td id=\"T_b03fb512_c90a_11eb_8202_0242ac1c0002row4_col1\" class=\"data row4 col1\" >0.081758</td>\n",
              "                        <td id=\"T_b03fb512_c90a_11eb_8202_0242ac1c0002row4_col2\" class=\"data row4 col2\" >-0.030763</td>\n",
              "                        <td id=\"T_b03fb512_c90a_11eb_8202_0242ac1c0002row4_col3\" class=\"data row4 col3\" >0.039450</td>\n",
              "                        <td id=\"T_b03fb512_c90a_11eb_8202_0242ac1c0002row4_col4\" class=\"data row4 col4\" >1.000000</td>\n",
              "                        <td id=\"T_b03fb512_c90a_11eb_8202_0242ac1c0002row4_col5\" class=\"data row4 col5\" >-0.022763</td>\n",
              "                        <td id=\"T_b03fb512_c90a_11eb_8202_0242ac1c0002row4_col6\" class=\"data row4 col6\" >-0.014376</td>\n",
              "                        <td id=\"T_b03fb512_c90a_11eb_8202_0242ac1c0002row4_col7\" class=\"data row4 col7\" >0.068479</td>\n",
              "                        <td id=\"T_b03fb512_c90a_11eb_8202_0242ac1c0002row4_col8\" class=\"data row4 col8\" >-0.056750</td>\n",
              "                        <td id=\"T_b03fb512_c90a_11eb_8202_0242ac1c0002row4_col9\" class=\"data row4 col9\" >0.042961</td>\n",
              "                        <td id=\"T_b03fb512_c90a_11eb_8202_0242ac1c0002row4_col10\" class=\"data row4 col10\" >-0.020445</td>\n",
              "                        <td id=\"T_b03fb512_c90a_11eb_8202_0242ac1c0002row4_col11\" class=\"data row4 col11\" >0.007026</td>\n",
              "                        <td id=\"T_b03fb512_c90a_11eb_8202_0242ac1c0002row4_col12\" class=\"data row4 col12\" >-0.014673</td>\n",
              "                        <td id=\"T_b03fb512_c90a_11eb_8202_0242ac1c0002row4_col13\" class=\"data row4 col13\" >0.034526</td>\n",
              "                        <td id=\"T_b03fb512_c90a_11eb_8202_0242ac1c0002row4_col14\" class=\"data row4 col14\" >0.003776</td>\n",
              "                        <td id=\"T_b03fb512_c90a_11eb_8202_0242ac1c0002row4_col15\" class=\"data row4 col15\" >0.061099</td>\n",
              "                        <td id=\"T_b03fb512_c90a_11eb_8202_0242ac1c0002row4_col16\" class=\"data row4 col16\" >0.032568</td>\n",
              "                        <td id=\"T_b03fb512_c90a_11eb_8202_0242ac1c0002row4_col17\" class=\"data row4 col17\" >-0.061323</td>\n",
              "                        <td id=\"T_b03fb512_c90a_11eb_8202_0242ac1c0002row4_col18\" class=\"data row4 col18\" >-0.005657</td>\n",
              "            </tr>\n",
              "            <tr>\n",
              "                        <th id=\"T_b03fb512_c90a_11eb_8202_0242ac1c0002level0_row5\" class=\"row_heading level0 row5\" >Asthma</th>\n",
              "                        <td id=\"T_b03fb512_c90a_11eb_8202_0242ac1c0002row5_col0\" class=\"data row5 col0\" >0.075318</td>\n",
              "                        <td id=\"T_b03fb512_c90a_11eb_8202_0242ac1c0002row5_col1\" class=\"data row5 col1\" >0.073953</td>\n",
              "                        <td id=\"T_b03fb512_c90a_11eb_8202_0242ac1c0002row5_col2\" class=\"data row5 col2\" >0.086843</td>\n",
              "                        <td id=\"T_b03fb512_c90a_11eb_8202_0242ac1c0002row5_col3\" class=\"data row5 col3\" >0.081377</td>\n",
              "                        <td id=\"T_b03fb512_c90a_11eb_8202_0242ac1c0002row5_col4\" class=\"data row5 col4\" >-0.022763</td>\n",
              "                        <td id=\"T_b03fb512_c90a_11eb_8202_0242ac1c0002row5_col5\" class=\"data row5 col5\" >1.000000</td>\n",
              "                        <td id=\"T_b03fb512_c90a_11eb_8202_0242ac1c0002row5_col6\" class=\"data row5 col6\" >-0.033771</td>\n",
              "                        <td id=\"T_b03fb512_c90a_11eb_8202_0242ac1c0002row5_col7\" class=\"data row5 col7\" >0.037064</td>\n",
              "                        <td id=\"T_b03fb512_c90a_11eb_8202_0242ac1c0002row5_col8\" class=\"data row5 col8\" >0.076783</td>\n",
              "                        <td id=\"T_b03fb512_c90a_11eb_8202_0242ac1c0002row5_col9\" class=\"data row5 col9\" >-0.012060</td>\n",
              "                        <td id=\"T_b03fb512_c90a_11eb_8202_0242ac1c0002row5_col10\" class=\"data row5 col10\" >0.017707</td>\n",
              "                        <td id=\"T_b03fb512_c90a_11eb_8202_0242ac1c0002row5_col11\" class=\"data row5 col11\" >0.006564</td>\n",
              "                        <td id=\"T_b03fb512_c90a_11eb_8202_0242ac1c0002row5_col12\" class=\"data row5 col12\" >0.101909</td>\n",
              "                        <td id=\"T_b03fb512_c90a_11eb_8202_0242ac1c0002row5_col13\" class=\"data row5 col13\" >0.068286</td>\n",
              "                        <td id=\"T_b03fb512_c90a_11eb_8202_0242ac1c0002row5_col14\" class=\"data row5 col14\" >0.005046</td>\n",
              "                        <td id=\"T_b03fb512_c90a_11eb_8202_0242ac1c0002row5_col15\" class=\"data row5 col15\" >-0.044592</td>\n",
              "                        <td id=\"T_b03fb512_c90a_11eb_8202_0242ac1c0002row5_col16\" class=\"data row5 col16\" >0.020941</td>\n",
              "                        <td id=\"T_b03fb512_c90a_11eb_8202_0242ac1c0002row5_col17\" class=\"data row5 col17\" >-0.115679</td>\n",
              "                        <td id=\"T_b03fb512_c90a_11eb_8202_0242ac1c0002row5_col18\" class=\"data row5 col18\" >0.089930</td>\n",
              "            </tr>\n",
              "            <tr>\n",
              "                        <th id=\"T_b03fb512_c90a_11eb_8202_0242ac1c0002level0_row6\" class=\"row_heading level0 row6\" >Chronic Lung Disease</th>\n",
              "                        <td id=\"T_b03fb512_c90a_11eb_8202_0242ac1c0002row6_col0\" class=\"data row6 col0\" >-0.098291</td>\n",
              "                        <td id=\"T_b03fb512_c90a_11eb_8202_0242ac1c0002row6_col1\" class=\"data row6 col1\" >-0.025160</td>\n",
              "                        <td id=\"T_b03fb512_c90a_11eb_8202_0242ac1c0002row6_col2\" class=\"data row6 col2\" >-0.043664</td>\n",
              "                        <td id=\"T_b03fb512_c90a_11eb_8202_0242ac1c0002row6_col3\" class=\"data row6 col3\" >-0.050440</td>\n",
              "                        <td id=\"T_b03fb512_c90a_11eb_8202_0242ac1c0002row6_col4\" class=\"data row6 col4\" >-0.014376</td>\n",
              "                        <td id=\"T_b03fb512_c90a_11eb_8202_0242ac1c0002row6_col5\" class=\"data row6 col5\" >-0.033771</td>\n",
              "                        <td id=\"T_b03fb512_c90a_11eb_8202_0242ac1c0002row6_col6\" class=\"data row6 col6\" >1.000000</td>\n",
              "                        <td id=\"T_b03fb512_c90a_11eb_8202_0242ac1c0002row6_col7\" class=\"data row6 col7\" >-0.050480</td>\n",
              "                        <td id=\"T_b03fb512_c90a_11eb_8202_0242ac1c0002row6_col8\" class=\"data row6 col8\" >-0.039860</td>\n",
              "                        <td id=\"T_b03fb512_c90a_11eb_8202_0242ac1c0002row6_col9\" class=\"data row6 col9\" >0.046789</td>\n",
              "                        <td id=\"T_b03fb512_c90a_11eb_8202_0242ac1c0002row6_col10\" class=\"data row6 col10\" >-0.010331</td>\n",
              "                        <td id=\"T_b03fb512_c90a_11eb_8202_0242ac1c0002row6_col11\" class=\"data row6 col11\" >-0.047655</td>\n",
              "                        <td id=\"T_b03fb512_c90a_11eb_8202_0242ac1c0002row6_col12\" class=\"data row6 col12\" >-0.050333</td>\n",
              "                        <td id=\"T_b03fb512_c90a_11eb_8202_0242ac1c0002row6_col13\" class=\"data row6 col13\" >-0.088854</td>\n",
              "                        <td id=\"T_b03fb512_c90a_11eb_8202_0242ac1c0002row6_col14\" class=\"data row6 col14\" >-0.062482</td>\n",
              "                        <td id=\"T_b03fb512_c90a_11eb_8202_0242ac1c0002row6_col15\" class=\"data row6 col15\" >-0.020548</td>\n",
              "                        <td id=\"T_b03fb512_c90a_11eb_8202_0242ac1c0002row6_col16\" class=\"data row6 col16\" >-0.093049</td>\n",
              "                        <td id=\"T_b03fb512_c90a_11eb_8202_0242ac1c0002row6_col17\" class=\"data row6 col17\" >0.038343</td>\n",
              "                        <td id=\"T_b03fb512_c90a_11eb_8202_0242ac1c0002row6_col18\" class=\"data row6 col18\" >-0.056837</td>\n",
              "            </tr>\n",
              "            <tr>\n",
              "                        <th id=\"T_b03fb512_c90a_11eb_8202_0242ac1c0002level0_row7\" class=\"row_heading level0 row7\" >Headache</th>\n",
              "                        <td id=\"T_b03fb512_c90a_11eb_8202_0242ac1c0002row7_col0\" class=\"data row7 col0\" >-0.062172</td>\n",
              "                        <td id=\"T_b03fb512_c90a_11eb_8202_0242ac1c0002row7_col1\" class=\"data row7 col1\" >-0.035416</td>\n",
              "                        <td id=\"T_b03fb512_c90a_11eb_8202_0242ac1c0002row7_col2\" class=\"data row7 col2\" >-0.035912</td>\n",
              "                        <td id=\"T_b03fb512_c90a_11eb_8202_0242ac1c0002row7_col3\" class=\"data row7 col3\" >-0.015971</td>\n",
              "                        <td id=\"T_b03fb512_c90a_11eb_8202_0242ac1c0002row7_col4\" class=\"data row7 col4\" >0.068479</td>\n",
              "                        <td id=\"T_b03fb512_c90a_11eb_8202_0242ac1c0002row7_col5\" class=\"data row7 col5\" >0.037064</td>\n",
              "                        <td id=\"T_b03fb512_c90a_11eb_8202_0242ac1c0002row7_col6\" class=\"data row7 col6\" >-0.050480</td>\n",
              "                        <td id=\"T_b03fb512_c90a_11eb_8202_0242ac1c0002row7_col7\" class=\"data row7 col7\" >1.000000</td>\n",
              "                        <td id=\"T_b03fb512_c90a_11eb_8202_0242ac1c0002row7_col8\" class=\"data row7 col8\" >0.048471</td>\n",
              "                        <td id=\"T_b03fb512_c90a_11eb_8202_0242ac1c0002row7_col9\" class=\"data row7 col9\" >0.032390</td>\n",
              "                        <td id=\"T_b03fb512_c90a_11eb_8202_0242ac1c0002row7_col10\" class=\"data row7 col10\" >-0.207489</td>\n",
              "                        <td id=\"T_b03fb512_c90a_11eb_8202_0242ac1c0002row7_col11\" class=\"data row7 col11\" >0.052035</td>\n",
              "                        <td id=\"T_b03fb512_c90a_11eb_8202_0242ac1c0002row7_col12\" class=\"data row7 col12\" >0.097778</td>\n",
              "                        <td id=\"T_b03fb512_c90a_11eb_8202_0242ac1c0002row7_col13\" class=\"data row7 col13\" >0.043589</td>\n",
              "                        <td id=\"T_b03fb512_c90a_11eb_8202_0242ac1c0002row7_col14\" class=\"data row7 col14\" >-0.082101</td>\n",
              "                        <td id=\"T_b03fb512_c90a_11eb_8202_0242ac1c0002row7_col15\" class=\"data row7 col15\" >-0.162992</td>\n",
              "                        <td id=\"T_b03fb512_c90a_11eb_8202_0242ac1c0002row7_col16\" class=\"data row7 col16\" >-0.005790</td>\n",
              "                        <td id=\"T_b03fb512_c90a_11eb_8202_0242ac1c0002row7_col17\" class=\"data row7 col17\" >-0.012625</td>\n",
              "                        <td id=\"T_b03fb512_c90a_11eb_8202_0242ac1c0002row7_col18\" class=\"data row7 col18\" >-0.027793</td>\n",
              "            </tr>\n",
              "            <tr>\n",
              "                        <th id=\"T_b03fb512_c90a_11eb_8202_0242ac1c0002level0_row8\" class=\"row_heading level0 row8\" >Heart Disease</th>\n",
              "                        <td id=\"T_b03fb512_c90a_11eb_8202_0242ac1c0002row8_col0\" class=\"data row8 col0\" >-0.073366</td>\n",
              "                        <td id=\"T_b03fb512_c90a_11eb_8202_0242ac1c0002row8_col1\" class=\"data row8 col1\" >-0.031462</td>\n",
              "                        <td id=\"T_b03fb512_c90a_11eb_8202_0242ac1c0002row8_col2\" class=\"data row8 col2\" >0.047566</td>\n",
              "                        <td id=\"T_b03fb512_c90a_11eb_8202_0242ac1c0002row8_col3\" class=\"data row8 col3\" >0.002177</td>\n",
              "                        <td id=\"T_b03fb512_c90a_11eb_8202_0242ac1c0002row8_col4\" class=\"data row8 col4\" >-0.056750</td>\n",
              "                        <td id=\"T_b03fb512_c90a_11eb_8202_0242ac1c0002row8_col5\" class=\"data row8 col5\" >0.076783</td>\n",
              "                        <td id=\"T_b03fb512_c90a_11eb_8202_0242ac1c0002row8_col6\" class=\"data row8 col6\" >-0.039860</td>\n",
              "                        <td id=\"T_b03fb512_c90a_11eb_8202_0242ac1c0002row8_col7\" class=\"data row8 col7\" >0.048471</td>\n",
              "                        <td id=\"T_b03fb512_c90a_11eb_8202_0242ac1c0002row8_col8\" class=\"data row8 col8\" >1.000000</td>\n",
              "                        <td id=\"T_b03fb512_c90a_11eb_8202_0242ac1c0002row8_col9\" class=\"data row8 col9\" >-0.032956</td>\n",
              "                        <td id=\"T_b03fb512_c90a_11eb_8202_0242ac1c0002row8_col10\" class=\"data row8 col10\" >0.049139</td>\n",
              "                        <td id=\"T_b03fb512_c90a_11eb_8202_0242ac1c0002row8_col11\" class=\"data row8 col11\" >-0.058925</td>\n",
              "                        <td id=\"T_b03fb512_c90a_11eb_8202_0242ac1c0002row8_col12\" class=\"data row8 col12\" >0.004121</td>\n",
              "                        <td id=\"T_b03fb512_c90a_11eb_8202_0242ac1c0002row8_col13\" class=\"data row8 col13\" >-0.020761</td>\n",
              "                        <td id=\"T_b03fb512_c90a_11eb_8202_0242ac1c0002row8_col14\" class=\"data row8 col14\" >-0.025593</td>\n",
              "                        <td id=\"T_b03fb512_c90a_11eb_8202_0242ac1c0002row8_col15\" class=\"data row8 col15\" >-0.045437</td>\n",
              "                        <td id=\"T_b03fb512_c90a_11eb_8202_0242ac1c0002row8_col16\" class=\"data row8 col16\" >0.086169</td>\n",
              "                        <td id=\"T_b03fb512_c90a_11eb_8202_0242ac1c0002row8_col17\" class=\"data row8 col17\" >0.035000</td>\n",
              "                        <td id=\"T_b03fb512_c90a_11eb_8202_0242ac1c0002row8_col18\" class=\"data row8 col18\" >0.027072</td>\n",
              "            </tr>\n",
              "            <tr>\n",
              "                        <th id=\"T_b03fb512_c90a_11eb_8202_0242ac1c0002level0_row9\" class=\"row_heading level0 row9\" >Diabetes</th>\n",
              "                        <td id=\"T_b03fb512_c90a_11eb_8202_0242ac1c0002row9_col0\" class=\"data row9 col0\" >0.055427</td>\n",
              "                        <td id=\"T_b03fb512_c90a_11eb_8202_0242ac1c0002row9_col1\" class=\"data row9 col1\" >0.050286</td>\n",
              "                        <td id=\"T_b03fb512_c90a_11eb_8202_0242ac1c0002row9_col2\" class=\"data row9 col2\" >-0.006593</td>\n",
              "                        <td id=\"T_b03fb512_c90a_11eb_8202_0242ac1c0002row9_col3\" class=\"data row9 col3\" >0.001938</td>\n",
              "                        <td id=\"T_b03fb512_c90a_11eb_8202_0242ac1c0002row9_col4\" class=\"data row9 col4\" >0.042961</td>\n",
              "                        <td id=\"T_b03fb512_c90a_11eb_8202_0242ac1c0002row9_col5\" class=\"data row9 col5\" >-0.012060</td>\n",
              "                        <td id=\"T_b03fb512_c90a_11eb_8202_0242ac1c0002row9_col6\" class=\"data row9 col6\" >0.046789</td>\n",
              "                        <td id=\"T_b03fb512_c90a_11eb_8202_0242ac1c0002row9_col7\" class=\"data row9 col7\" >0.032390</td>\n",
              "                        <td id=\"T_b03fb512_c90a_11eb_8202_0242ac1c0002row9_col8\" class=\"data row9 col8\" >-0.032956</td>\n",
              "                        <td id=\"T_b03fb512_c90a_11eb_8202_0242ac1c0002row9_col9\" class=\"data row9 col9\" >1.000000</td>\n",
              "                        <td id=\"T_b03fb512_c90a_11eb_8202_0242ac1c0002row9_col10\" class=\"data row9 col10\" >0.042543</td>\n",
              "                        <td id=\"T_b03fb512_c90a_11eb_8202_0242ac1c0002row9_col11\" class=\"data row9 col11\" >-0.043903</td>\n",
              "                        <td id=\"T_b03fb512_c90a_11eb_8202_0242ac1c0002row9_col12\" class=\"data row9 col12\" >0.040651</td>\n",
              "                        <td id=\"T_b03fb512_c90a_11eb_8202_0242ac1c0002row9_col13\" class=\"data row9 col13\" >0.039013</td>\n",
              "                        <td id=\"T_b03fb512_c90a_11eb_8202_0242ac1c0002row9_col14\" class=\"data row9 col14\" >-0.085696</td>\n",
              "                        <td id=\"T_b03fb512_c90a_11eb_8202_0242ac1c0002row9_col15\" class=\"data row9 col15\" >-0.061650</td>\n",
              "                        <td id=\"T_b03fb512_c90a_11eb_8202_0242ac1c0002row9_col16\" class=\"data row9 col16\" >-0.078212</td>\n",
              "                        <td id=\"T_b03fb512_c90a_11eb_8202_0242ac1c0002row9_col17\" class=\"data row9 col17\" >0.097696</td>\n",
              "                        <td id=\"T_b03fb512_c90a_11eb_8202_0242ac1c0002row9_col18\" class=\"data row9 col18\" >0.040627</td>\n",
              "            </tr>\n",
              "            <tr>\n",
              "                        <th id=\"T_b03fb512_c90a_11eb_8202_0242ac1c0002level0_row10\" class=\"row_heading level0 row10\" >Hyper Tension</th>\n",
              "                        <td id=\"T_b03fb512_c90a_11eb_8202_0242ac1c0002row10_col0\" class=\"data row10 col0\" >0.045256</td>\n",
              "                        <td id=\"T_b03fb512_c90a_11eb_8202_0242ac1c0002row10_col1\" class=\"data row10 col1\" >0.079001</td>\n",
              "                        <td id=\"T_b03fb512_c90a_11eb_8202_0242ac1c0002row10_col2\" class=\"data row10 col2\" >0.081989</td>\n",
              "                        <td id=\"T_b03fb512_c90a_11eb_8202_0242ac1c0002row10_col3\" class=\"data row10 col3\" >0.042811</td>\n",
              "                        <td id=\"T_b03fb512_c90a_11eb_8202_0242ac1c0002row10_col4\" class=\"data row10 col4\" >-0.020445</td>\n",
              "                        <td id=\"T_b03fb512_c90a_11eb_8202_0242ac1c0002row10_col5\" class=\"data row10 col5\" >0.017707</td>\n",
              "                        <td id=\"T_b03fb512_c90a_11eb_8202_0242ac1c0002row10_col6\" class=\"data row10 col6\" >-0.010331</td>\n",
              "                        <td id=\"T_b03fb512_c90a_11eb_8202_0242ac1c0002row10_col7\" class=\"data row10 col7\" >-0.207489</td>\n",
              "                        <td id=\"T_b03fb512_c90a_11eb_8202_0242ac1c0002row10_col8\" class=\"data row10 col8\" >0.049139</td>\n",
              "                        <td id=\"T_b03fb512_c90a_11eb_8202_0242ac1c0002row10_col9\" class=\"data row10 col9\" >0.042543</td>\n",
              "                        <td id=\"T_b03fb512_c90a_11eb_8202_0242ac1c0002row10_col10\" class=\"data row10 col10\" >1.000000</td>\n",
              "                        <td id=\"T_b03fb512_c90a_11eb_8202_0242ac1c0002row10_col11\" class=\"data row10 col11\" >-0.027605</td>\n",
              "                        <td id=\"T_b03fb512_c90a_11eb_8202_0242ac1c0002row10_col12\" class=\"data row10 col12\" >-0.067972</td>\n",
              "                        <td id=\"T_b03fb512_c90a_11eb_8202_0242ac1c0002row10_col13\" class=\"data row10 col13\" >-0.016382</td>\n",
              "                        <td id=\"T_b03fb512_c90a_11eb_8202_0242ac1c0002row10_col14\" class=\"data row10 col14\" >0.027307</td>\n",
              "                        <td id=\"T_b03fb512_c90a_11eb_8202_0242ac1c0002row10_col15\" class=\"data row10 col15\" >0.002911</td>\n",
              "                        <td id=\"T_b03fb512_c90a_11eb_8202_0242ac1c0002row10_col16\" class=\"data row10 col16\" >0.019174</td>\n",
              "                        <td id=\"T_b03fb512_c90a_11eb_8202_0242ac1c0002row10_col17\" class=\"data row10 col17\" >0.048152</td>\n",
              "                        <td id=\"T_b03fb512_c90a_11eb_8202_0242ac1c0002row10_col18\" class=\"data row10 col18\" >0.102575</td>\n",
              "            </tr>\n",
              "            <tr>\n",
              "                        <th id=\"T_b03fb512_c90a_11eb_8202_0242ac1c0002level0_row11\" class=\"row_heading level0 row11\" >Fatigue </th>\n",
              "                        <td id=\"T_b03fb512_c90a_11eb_8202_0242ac1c0002row11_col0\" class=\"data row11 col0\" >0.000561</td>\n",
              "                        <td id=\"T_b03fb512_c90a_11eb_8202_0242ac1c0002row11_col1\" class=\"data row11 col1\" >-0.060458</td>\n",
              "                        <td id=\"T_b03fb512_c90a_11eb_8202_0242ac1c0002row11_col2\" class=\"data row11 col2\" >-0.039909</td>\n",
              "                        <td id=\"T_b03fb512_c90a_11eb_8202_0242ac1c0002row11_col3\" class=\"data row11 col3\" >-0.023290</td>\n",
              "                        <td id=\"T_b03fb512_c90a_11eb_8202_0242ac1c0002row11_col4\" class=\"data row11 col4\" >0.007026</td>\n",
              "                        <td id=\"T_b03fb512_c90a_11eb_8202_0242ac1c0002row11_col5\" class=\"data row11 col5\" >0.006564</td>\n",
              "                        <td id=\"T_b03fb512_c90a_11eb_8202_0242ac1c0002row11_col6\" class=\"data row11 col6\" >-0.047655</td>\n",
              "                        <td id=\"T_b03fb512_c90a_11eb_8202_0242ac1c0002row11_col7\" class=\"data row11 col7\" >0.052035</td>\n",
              "                        <td id=\"T_b03fb512_c90a_11eb_8202_0242ac1c0002row11_col8\" class=\"data row11 col8\" >-0.058925</td>\n",
              "                        <td id=\"T_b03fb512_c90a_11eb_8202_0242ac1c0002row11_col9\" class=\"data row11 col9\" >-0.043903</td>\n",
              "                        <td id=\"T_b03fb512_c90a_11eb_8202_0242ac1c0002row11_col10\" class=\"data row11 col10\" >-0.027605</td>\n",
              "                        <td id=\"T_b03fb512_c90a_11eb_8202_0242ac1c0002row11_col11\" class=\"data row11 col11\" >1.000000</td>\n",
              "                        <td id=\"T_b03fb512_c90a_11eb_8202_0242ac1c0002row11_col12\" class=\"data row11 col12\" >0.009356</td>\n",
              "                        <td id=\"T_b03fb512_c90a_11eb_8202_0242ac1c0002row11_col13\" class=\"data row11 col13\" >-0.068401</td>\n",
              "                        <td id=\"T_b03fb512_c90a_11eb_8202_0242ac1c0002row11_col14\" class=\"data row11 col14\" >-0.027383</td>\n",
              "                        <td id=\"T_b03fb512_c90a_11eb_8202_0242ac1c0002row11_col15\" class=\"data row11 col15\" >-0.031058</td>\n",
              "                        <td id=\"T_b03fb512_c90a_11eb_8202_0242ac1c0002row11_col16\" class=\"data row11 col16\" >-0.009562</td>\n",
              "                        <td id=\"T_b03fb512_c90a_11eb_8202_0242ac1c0002row11_col17\" class=\"data row11 col17\" >-0.025623</td>\n",
              "                        <td id=\"T_b03fb512_c90a_11eb_8202_0242ac1c0002row11_col18\" class=\"data row11 col18\" >-0.044188</td>\n",
              "            </tr>\n",
              "            <tr>\n",
              "                        <th id=\"T_b03fb512_c90a_11eb_8202_0242ac1c0002level0_row12\" class=\"row_heading level0 row12\" >Gastrointestinal </th>\n",
              "                        <td id=\"T_b03fb512_c90a_11eb_8202_0242ac1c0002row12_col0\" class=\"data row12 col0\" >-0.075390</td>\n",
              "                        <td id=\"T_b03fb512_c90a_11eb_8202_0242ac1c0002row12_col1\" class=\"data row12 col1\" >-0.008067</td>\n",
              "                        <td id=\"T_b03fb512_c90a_11eb_8202_0242ac1c0002row12_col2\" class=\"data row12 col2\" >0.008251</td>\n",
              "                        <td id=\"T_b03fb512_c90a_11eb_8202_0242ac1c0002row12_col3\" class=\"data row12 col3\" >0.025886</td>\n",
              "                        <td id=\"T_b03fb512_c90a_11eb_8202_0242ac1c0002row12_col4\" class=\"data row12 col4\" >-0.014673</td>\n",
              "                        <td id=\"T_b03fb512_c90a_11eb_8202_0242ac1c0002row12_col5\" class=\"data row12 col5\" >0.101909</td>\n",
              "                        <td id=\"T_b03fb512_c90a_11eb_8202_0242ac1c0002row12_col6\" class=\"data row12 col6\" >-0.050333</td>\n",
              "                        <td id=\"T_b03fb512_c90a_11eb_8202_0242ac1c0002row12_col7\" class=\"data row12 col7\" >0.097778</td>\n",
              "                        <td id=\"T_b03fb512_c90a_11eb_8202_0242ac1c0002row12_col8\" class=\"data row12 col8\" >0.004121</td>\n",
              "                        <td id=\"T_b03fb512_c90a_11eb_8202_0242ac1c0002row12_col9\" class=\"data row12 col9\" >0.040651</td>\n",
              "                        <td id=\"T_b03fb512_c90a_11eb_8202_0242ac1c0002row12_col10\" class=\"data row12 col10\" >-0.067972</td>\n",
              "                        <td id=\"T_b03fb512_c90a_11eb_8202_0242ac1c0002row12_col11\" class=\"data row12 col11\" >0.009356</td>\n",
              "                        <td id=\"T_b03fb512_c90a_11eb_8202_0242ac1c0002row12_col12\" class=\"data row12 col12\" >1.000000</td>\n",
              "                        <td id=\"T_b03fb512_c90a_11eb_8202_0242ac1c0002row12_col13\" class=\"data row12 col13\" >0.099577</td>\n",
              "                        <td id=\"T_b03fb512_c90a_11eb_8202_0242ac1c0002row12_col14\" class=\"data row12 col14\" >0.025277</td>\n",
              "                        <td id=\"T_b03fb512_c90a_11eb_8202_0242ac1c0002row12_col15\" class=\"data row12 col15\" >-0.017251</td>\n",
              "                        <td id=\"T_b03fb512_c90a_11eb_8202_0242ac1c0002row12_col16\" class=\"data row12 col16\" >-0.061885</td>\n",
              "                        <td id=\"T_b03fb512_c90a_11eb_8202_0242ac1c0002row12_col17\" class=\"data row12 col17\" >-0.027603</td>\n",
              "                        <td id=\"T_b03fb512_c90a_11eb_8202_0242ac1c0002row12_col18\" class=\"data row12 col18\" >-0.003367</td>\n",
              "            </tr>\n",
              "            <tr>\n",
              "                        <th id=\"T_b03fb512_c90a_11eb_8202_0242ac1c0002level0_row13\" class=\"row_heading level0 row13\" >Abroad travel</th>\n",
              "                        <td id=\"T_b03fb512_c90a_11eb_8202_0242ac1c0002row13_col0\" class=\"data row13 col0\" >0.117795</td>\n",
              "                        <td id=\"T_b03fb512_c90a_11eb_8202_0242ac1c0002row13_col1\" class=\"data row13 col1\" >0.128726</td>\n",
              "                        <td id=\"T_b03fb512_c90a_11eb_8202_0242ac1c0002row13_col2\" class=\"data row13 col2\" >0.331418</td>\n",
              "                        <td id=\"T_b03fb512_c90a_11eb_8202_0242ac1c0002row13_col3\" class=\"data row13 col3\" >0.205986</td>\n",
              "                        <td id=\"T_b03fb512_c90a_11eb_8202_0242ac1c0002row13_col4\" class=\"data row13 col4\" >0.034526</td>\n",
              "                        <td id=\"T_b03fb512_c90a_11eb_8202_0242ac1c0002row13_col5\" class=\"data row13 col5\" >0.068286</td>\n",
              "                        <td id=\"T_b03fb512_c90a_11eb_8202_0242ac1c0002row13_col6\" class=\"data row13 col6\" >-0.088854</td>\n",
              "                        <td id=\"T_b03fb512_c90a_11eb_8202_0242ac1c0002row13_col7\" class=\"data row13 col7\" >0.043589</td>\n",
              "                        <td id=\"T_b03fb512_c90a_11eb_8202_0242ac1c0002row13_col8\" class=\"data row13 col8\" >-0.020761</td>\n",
              "                        <td id=\"T_b03fb512_c90a_11eb_8202_0242ac1c0002row13_col9\" class=\"data row13 col9\" >0.039013</td>\n",
              "                        <td id=\"T_b03fb512_c90a_11eb_8202_0242ac1c0002row13_col10\" class=\"data row13 col10\" >-0.016382</td>\n",
              "                        <td id=\"T_b03fb512_c90a_11eb_8202_0242ac1c0002row13_col11\" class=\"data row13 col11\" >-0.068401</td>\n",
              "                        <td id=\"T_b03fb512_c90a_11eb_8202_0242ac1c0002row13_col12\" class=\"data row13 col12\" >0.099577</td>\n",
              "                        <td id=\"T_b03fb512_c90a_11eb_8202_0242ac1c0002row13_col13\" class=\"data row13 col13\" >1.000000</td>\n",
              "                        <td id=\"T_b03fb512_c90a_11eb_8202_0242ac1c0002row13_col14\" class=\"data row13 col14\" >0.080210</td>\n",
              "                        <td id=\"T_b03fb512_c90a_11eb_8202_0242ac1c0002row13_col15\" class=\"data row13 col15\" >0.113399</td>\n",
              "                        <td id=\"T_b03fb512_c90a_11eb_8202_0242ac1c0002row13_col16\" class=\"data row13 col16\" >0.069609</td>\n",
              "                        <td id=\"T_b03fb512_c90a_11eb_8202_0242ac1c0002row13_col17\" class=\"data row13 col17\" >0.143094</td>\n",
              "                        <td id=\"T_b03fb512_c90a_11eb_8202_0242ac1c0002row13_col18\" class=\"data row13 col18\" >0.443875</td>\n",
              "            </tr>\n",
              "            <tr>\n",
              "                        <th id=\"T_b03fb512_c90a_11eb_8202_0242ac1c0002level0_row14\" class=\"row_heading level0 row14\" >Contact with COVID Patient</th>\n",
              "                        <td id=\"T_b03fb512_c90a_11eb_8202_0242ac1c0002row14_col0\" class=\"data row14 col0\" >0.214634</td>\n",
              "                        <td id=\"T_b03fb512_c90a_11eb_8202_0242ac1c0002row14_col1\" class=\"data row14 col1\" >0.164704</td>\n",
              "                        <td id=\"T_b03fb512_c90a_11eb_8202_0242ac1c0002row14_col2\" class=\"data row14 col2\" >0.128330</td>\n",
              "                        <td id=\"T_b03fb512_c90a_11eb_8202_0242ac1c0002row14_col3\" class=\"data row14 col3\" >0.189251</td>\n",
              "                        <td id=\"T_b03fb512_c90a_11eb_8202_0242ac1c0002row14_col4\" class=\"data row14 col4\" >0.003776</td>\n",
              "                        <td id=\"T_b03fb512_c90a_11eb_8202_0242ac1c0002row14_col5\" class=\"data row14 col5\" >0.005046</td>\n",
              "                        <td id=\"T_b03fb512_c90a_11eb_8202_0242ac1c0002row14_col6\" class=\"data row14 col6\" >-0.062482</td>\n",
              "                        <td id=\"T_b03fb512_c90a_11eb_8202_0242ac1c0002row14_col7\" class=\"data row14 col7\" >-0.082101</td>\n",
              "                        <td id=\"T_b03fb512_c90a_11eb_8202_0242ac1c0002row14_col8\" class=\"data row14 col8\" >-0.025593</td>\n",
              "                        <td id=\"T_b03fb512_c90a_11eb_8202_0242ac1c0002row14_col9\" class=\"data row14 col9\" >-0.085696</td>\n",
              "                        <td id=\"T_b03fb512_c90a_11eb_8202_0242ac1c0002row14_col10\" class=\"data row14 col10\" >0.027307</td>\n",
              "                        <td id=\"T_b03fb512_c90a_11eb_8202_0242ac1c0002row14_col11\" class=\"data row14 col11\" >-0.027383</td>\n",
              "                        <td id=\"T_b03fb512_c90a_11eb_8202_0242ac1c0002row14_col12\" class=\"data row14 col12\" >0.025277</td>\n",
              "                        <td id=\"T_b03fb512_c90a_11eb_8202_0242ac1c0002row14_col13\" class=\"data row14 col13\" >0.080210</td>\n",
              "                        <td id=\"T_b03fb512_c90a_11eb_8202_0242ac1c0002row14_col14\" class=\"data row14 col14\" >1.000000</td>\n",
              "                        <td id=\"T_b03fb512_c90a_11eb_8202_0242ac1c0002row14_col15\" class=\"data row14 col15\" >0.234649</td>\n",
              "                        <td id=\"T_b03fb512_c90a_11eb_8202_0242ac1c0002row14_col16\" class=\"data row14 col16\" >0.079800</td>\n",
              "                        <td id=\"T_b03fb512_c90a_11eb_8202_0242ac1c0002row14_col17\" class=\"data row14 col17\" >0.006909</td>\n",
              "                        <td id=\"T_b03fb512_c90a_11eb_8202_0242ac1c0002row14_col18\" class=\"data row14 col18\" >0.357122</td>\n",
              "            </tr>\n",
              "            <tr>\n",
              "                        <th id=\"T_b03fb512_c90a_11eb_8202_0242ac1c0002level0_row15\" class=\"row_heading level0 row15\" >Attended Large Gathering</th>\n",
              "                        <td id=\"T_b03fb512_c90a_11eb_8202_0242ac1c0002row15_col0\" class=\"data row15 col0\" >0.200304</td>\n",
              "                        <td id=\"T_b03fb512_c90a_11eb_8202_0242ac1c0002row15_col1\" class=\"data row15 col1\" >0.070490</td>\n",
              "                        <td id=\"T_b03fb512_c90a_11eb_8202_0242ac1c0002row15_col2\" class=\"data row15 col2\" >0.117963</td>\n",
              "                        <td id=\"T_b03fb512_c90a_11eb_8202_0242ac1c0002row15_col3\" class=\"data row15 col3\" >0.216438</td>\n",
              "                        <td id=\"T_b03fb512_c90a_11eb_8202_0242ac1c0002row15_col4\" class=\"data row15 col4\" >0.061099</td>\n",
              "                        <td id=\"T_b03fb512_c90a_11eb_8202_0242ac1c0002row15_col5\" class=\"data row15 col5\" >-0.044592</td>\n",
              "                        <td id=\"T_b03fb512_c90a_11eb_8202_0242ac1c0002row15_col6\" class=\"data row15 col6\" >-0.020548</td>\n",
              "                        <td id=\"T_b03fb512_c90a_11eb_8202_0242ac1c0002row15_col7\" class=\"data row15 col7\" >-0.162992</td>\n",
              "                        <td id=\"T_b03fb512_c90a_11eb_8202_0242ac1c0002row15_col8\" class=\"data row15 col8\" >-0.045437</td>\n",
              "                        <td id=\"T_b03fb512_c90a_11eb_8202_0242ac1c0002row15_col9\" class=\"data row15 col9\" >-0.061650</td>\n",
              "                        <td id=\"T_b03fb512_c90a_11eb_8202_0242ac1c0002row15_col10\" class=\"data row15 col10\" >0.002911</td>\n",
              "                        <td id=\"T_b03fb512_c90a_11eb_8202_0242ac1c0002row15_col11\" class=\"data row15 col11\" >-0.031058</td>\n",
              "                        <td id=\"T_b03fb512_c90a_11eb_8202_0242ac1c0002row15_col12\" class=\"data row15 col12\" >-0.017251</td>\n",
              "                        <td id=\"T_b03fb512_c90a_11eb_8202_0242ac1c0002row15_col13\" class=\"data row15 col13\" >0.113399</td>\n",
              "                        <td id=\"T_b03fb512_c90a_11eb_8202_0242ac1c0002row15_col14\" class=\"data row15 col14\" >0.234649</td>\n",
              "                        <td id=\"T_b03fb512_c90a_11eb_8202_0242ac1c0002row15_col15\" class=\"data row15 col15\" >1.000000</td>\n",
              "                        <td id=\"T_b03fb512_c90a_11eb_8202_0242ac1c0002row15_col16\" class=\"data row15 col16\" >0.083795</td>\n",
              "                        <td id=\"T_b03fb512_c90a_11eb_8202_0242ac1c0002row15_col17\" class=\"data row15 col17\" >0.063776</td>\n",
              "                        <td id=\"T_b03fb512_c90a_11eb_8202_0242ac1c0002row15_col18\" class=\"data row15 col18\" >0.390145</td>\n",
              "            </tr>\n",
              "            <tr>\n",
              "                        <th id=\"T_b03fb512_c90a_11eb_8202_0242ac1c0002level0_row16\" class=\"row_heading level0 row16\" >Visited Public Exposed Places</th>\n",
              "                        <td id=\"T_b03fb512_c90a_11eb_8202_0242ac1c0002row16_col0\" class=\"data row16 col0\" >0.066688</td>\n",
              "                        <td id=\"T_b03fb512_c90a_11eb_8202_0242ac1c0002row16_col1\" class=\"data row16 col1\" >0.002252</td>\n",
              "                        <td id=\"T_b03fb512_c90a_11eb_8202_0242ac1c0002row16_col2\" class=\"data row16 col2\" >0.086176</td>\n",
              "                        <td id=\"T_b03fb512_c90a_11eb_8202_0242ac1c0002row16_col3\" class=\"data row16 col3\" >0.079055</td>\n",
              "                        <td id=\"T_b03fb512_c90a_11eb_8202_0242ac1c0002row16_col4\" class=\"data row16 col4\" >0.032568</td>\n",
              "                        <td id=\"T_b03fb512_c90a_11eb_8202_0242ac1c0002row16_col5\" class=\"data row16 col5\" >0.020941</td>\n",
              "                        <td id=\"T_b03fb512_c90a_11eb_8202_0242ac1c0002row16_col6\" class=\"data row16 col6\" >-0.093049</td>\n",
              "                        <td id=\"T_b03fb512_c90a_11eb_8202_0242ac1c0002row16_col7\" class=\"data row16 col7\" >-0.005790</td>\n",
              "                        <td id=\"T_b03fb512_c90a_11eb_8202_0242ac1c0002row16_col8\" class=\"data row16 col8\" >0.086169</td>\n",
              "                        <td id=\"T_b03fb512_c90a_11eb_8202_0242ac1c0002row16_col9\" class=\"data row16 col9\" >-0.078212</td>\n",
              "                        <td id=\"T_b03fb512_c90a_11eb_8202_0242ac1c0002row16_col10\" class=\"data row16 col10\" >0.019174</td>\n",
              "                        <td id=\"T_b03fb512_c90a_11eb_8202_0242ac1c0002row16_col11\" class=\"data row16 col11\" >-0.009562</td>\n",
              "                        <td id=\"T_b03fb512_c90a_11eb_8202_0242ac1c0002row16_col12\" class=\"data row16 col12\" >-0.061885</td>\n",
              "                        <td id=\"T_b03fb512_c90a_11eb_8202_0242ac1c0002row16_col13\" class=\"data row16 col13\" >0.069609</td>\n",
              "                        <td id=\"T_b03fb512_c90a_11eb_8202_0242ac1c0002row16_col14\" class=\"data row16 col14\" >0.079800</td>\n",
              "                        <td id=\"T_b03fb512_c90a_11eb_8202_0242ac1c0002row16_col15\" class=\"data row16 col15\" >0.083795</td>\n",
              "                        <td id=\"T_b03fb512_c90a_11eb_8202_0242ac1c0002row16_col16\" class=\"data row16 col16\" >1.000000</td>\n",
              "                        <td id=\"T_b03fb512_c90a_11eb_8202_0242ac1c0002row16_col17\" class=\"data row16 col17\" >0.028486</td>\n",
              "                        <td id=\"T_b03fb512_c90a_11eb_8202_0242ac1c0002row16_col18\" class=\"data row16 col18\" >0.119755</td>\n",
              "            </tr>\n",
              "            <tr>\n",
              "                        <th id=\"T_b03fb512_c90a_11eb_8202_0242ac1c0002level0_row17\" class=\"row_heading level0 row17\" >Family working in Public Exposed Places</th>\n",
              "                        <td id=\"T_b03fb512_c90a_11eb_8202_0242ac1c0002row17_col0\" class=\"data row17 col0\" >0.018295</td>\n",
              "                        <td id=\"T_b03fb512_c90a_11eb_8202_0242ac1c0002row17_col1\" class=\"data row17 col1\" >0.012102</td>\n",
              "                        <td id=\"T_b03fb512_c90a_11eb_8202_0242ac1c0002row17_col2\" class=\"data row17 col2\" >0.163102</td>\n",
              "                        <td id=\"T_b03fb512_c90a_11eb_8202_0242ac1c0002row17_col3\" class=\"data row17 col3\" >0.104378</td>\n",
              "                        <td id=\"T_b03fb512_c90a_11eb_8202_0242ac1c0002row17_col4\" class=\"data row17 col4\" >-0.061323</td>\n",
              "                        <td id=\"T_b03fb512_c90a_11eb_8202_0242ac1c0002row17_col5\" class=\"data row17 col5\" >-0.115679</td>\n",
              "                        <td id=\"T_b03fb512_c90a_11eb_8202_0242ac1c0002row17_col6\" class=\"data row17 col6\" >0.038343</td>\n",
              "                        <td id=\"T_b03fb512_c90a_11eb_8202_0242ac1c0002row17_col7\" class=\"data row17 col7\" >-0.012625</td>\n",
              "                        <td id=\"T_b03fb512_c90a_11eb_8202_0242ac1c0002row17_col8\" class=\"data row17 col8\" >0.035000</td>\n",
              "                        <td id=\"T_b03fb512_c90a_11eb_8202_0242ac1c0002row17_col9\" class=\"data row17 col9\" >0.097696</td>\n",
              "                        <td id=\"T_b03fb512_c90a_11eb_8202_0242ac1c0002row17_col10\" class=\"data row17 col10\" >0.048152</td>\n",
              "                        <td id=\"T_b03fb512_c90a_11eb_8202_0242ac1c0002row17_col11\" class=\"data row17 col11\" >-0.025623</td>\n",
              "                        <td id=\"T_b03fb512_c90a_11eb_8202_0242ac1c0002row17_col12\" class=\"data row17 col12\" >-0.027603</td>\n",
              "                        <td id=\"T_b03fb512_c90a_11eb_8202_0242ac1c0002row17_col13\" class=\"data row17 col13\" >0.143094</td>\n",
              "                        <td id=\"T_b03fb512_c90a_11eb_8202_0242ac1c0002row17_col14\" class=\"data row17 col14\" >0.006909</td>\n",
              "                        <td id=\"T_b03fb512_c90a_11eb_8202_0242ac1c0002row17_col15\" class=\"data row17 col15\" >0.063776</td>\n",
              "                        <td id=\"T_b03fb512_c90a_11eb_8202_0242ac1c0002row17_col16\" class=\"data row17 col16\" >0.028486</td>\n",
              "                        <td id=\"T_b03fb512_c90a_11eb_8202_0242ac1c0002row17_col17\" class=\"data row17 col17\" >1.000000</td>\n",
              "                        <td id=\"T_b03fb512_c90a_11eb_8202_0242ac1c0002row17_col18\" class=\"data row17 col18\" >0.160208</td>\n",
              "            </tr>\n",
              "            <tr>\n",
              "                        <th id=\"T_b03fb512_c90a_11eb_8202_0242ac1c0002level0_row18\" class=\"row_heading level0 row18\" >COVID-19</th>\n",
              "                        <td id=\"T_b03fb512_c90a_11eb_8202_0242ac1c0002row18_col0\" class=\"data row18 col0\" >0.443764</td>\n",
              "                        <td id=\"T_b03fb512_c90a_11eb_8202_0242ac1c0002row18_col1\" class=\"data row18 col1\" >0.352891</td>\n",
              "                        <td id=\"T_b03fb512_c90a_11eb_8202_0242ac1c0002row18_col2\" class=\"data row18 col2\" >0.464292</td>\n",
              "                        <td id=\"T_b03fb512_c90a_11eb_8202_0242ac1c0002row18_col3\" class=\"data row18 col3\" >0.502848</td>\n",
              "                        <td id=\"T_b03fb512_c90a_11eb_8202_0242ac1c0002row18_col4\" class=\"data row18 col4\" >-0.005657</td>\n",
              "                        <td id=\"T_b03fb512_c90a_11eb_8202_0242ac1c0002row18_col5\" class=\"data row18 col5\" >0.089930</td>\n",
              "                        <td id=\"T_b03fb512_c90a_11eb_8202_0242ac1c0002row18_col6\" class=\"data row18 col6\" >-0.056837</td>\n",
              "                        <td id=\"T_b03fb512_c90a_11eb_8202_0242ac1c0002row18_col7\" class=\"data row18 col7\" >-0.027793</td>\n",
              "                        <td id=\"T_b03fb512_c90a_11eb_8202_0242ac1c0002row18_col8\" class=\"data row18 col8\" >0.027072</td>\n",
              "                        <td id=\"T_b03fb512_c90a_11eb_8202_0242ac1c0002row18_col9\" class=\"data row18 col9\" >0.040627</td>\n",
              "                        <td id=\"T_b03fb512_c90a_11eb_8202_0242ac1c0002row18_col10\" class=\"data row18 col10\" >0.102575</td>\n",
              "                        <td id=\"T_b03fb512_c90a_11eb_8202_0242ac1c0002row18_col11\" class=\"data row18 col11\" >-0.044188</td>\n",
              "                        <td id=\"T_b03fb512_c90a_11eb_8202_0242ac1c0002row18_col12\" class=\"data row18 col12\" >-0.003367</td>\n",
              "                        <td id=\"T_b03fb512_c90a_11eb_8202_0242ac1c0002row18_col13\" class=\"data row18 col13\" >0.443875</td>\n",
              "                        <td id=\"T_b03fb512_c90a_11eb_8202_0242ac1c0002row18_col14\" class=\"data row18 col14\" >0.357122</td>\n",
              "                        <td id=\"T_b03fb512_c90a_11eb_8202_0242ac1c0002row18_col15\" class=\"data row18 col15\" >0.390145</td>\n",
              "                        <td id=\"T_b03fb512_c90a_11eb_8202_0242ac1c0002row18_col16\" class=\"data row18 col16\" >0.119755</td>\n",
              "                        <td id=\"T_b03fb512_c90a_11eb_8202_0242ac1c0002row18_col17\" class=\"data row18 col17\" >0.160208</td>\n",
              "                        <td id=\"T_b03fb512_c90a_11eb_8202_0242ac1c0002row18_col18\" class=\"data row18 col18\" >1.000000</td>\n",
              "            </tr>\n",
              "    </tbody></table>"
            ],
            "text/plain": [
              "<pandas.io.formats.style.Styler at 0x7f73836bb1d0>"
            ]
          },
          "metadata": {
            "tags": []
          },
          "execution_count": 48
        }
      ]
    },
    {
      "cell_type": "markdown",
      "metadata": {
        "id": "pQRWFLZTOiXz"
      },
      "source": [
        "Looking at above correlation matrix we can see that Presence of Covid 19 virus could be explained using variables Breathing Problem, Fever, Dry Cough, Sore throat which we can say that are the symtomatic character of the virus. Also when it comes to causality of the Covid 19 virus we can see that major variables Abroad travel, contact with COVID patient, Attended large gathering, Visited Public Exposed Places, and Family working in Public Exposed Places seem to appear as very strong explanatory variables."
      ]
    },
    {
      "cell_type": "markdown",
      "metadata": {
        "id": "XJSQVZXXo8xw"
      },
      "source": [
        "**Data Visualization**"
      ]
    },
    {
      "cell_type": "code",
      "metadata": {
        "colab": {
          "base_uri": "https://localhost:8080/",
          "height": 296
        },
        "id": "To1FlNspofA5",
        "outputId": "7bed64c1-4ea6-4e34-b302-2e2abafcb8e1"
      },
      "source": [
        "sns.countplot(x='COVID-19',data=Covid19)"
      ],
      "execution_count": 49,
      "outputs": [
        {
          "output_type": "execute_result",
          "data": {
            "text/plain": [
              "<matplotlib.axes._subplots.AxesSubplot at 0x7f73763def90>"
            ]
          },
          "metadata": {
            "tags": []
          },
          "execution_count": 49
        },
        {
          "output_type": "display_data",
          "data": {
            "image/png": "[encoded data removed]",
            "text/plain": [
              "<Figure size 432x288 with 1 Axes>"
            ]
          },
          "metadata": {
            "tags": [],
            "needs_background": "light"
          }
        }
      ]
    },
    {
      "cell_type": "markdown",
      "metadata": {
        "id": "bQp9LaFKryyD"
      },
      "source": [
        "With help seaborn library we can visualize distribution of population those who got Covid and those who didn't."
      ]
    },
    {
      "cell_type": "code",
      "metadata": {
        "colab": {
          "base_uri": "https://localhost:8080/",
          "height": 1000
        },
        "id": "-pRjoipQ05Bg",
        "outputId": "d8cfa6d8-2ffb-477e-de54-9d1139039d08"
      },
      "source": [
        "def pie_chart(Covid19, col, labels):\n",
        "    data = Covid19[col].value_counts().to_numpy()\n",
        "    def absolute_value(val):\n",
        "        a  = np.round(val / 100 * data.sum(), 0)\n",
        "        return str('%0.0f' % a) + '\\n(' + ('%0.2f' % val) + '%)'\n",
        "    plt.pie(data, labels = labels, autopct=absolute_value)\n",
        "    plt.legend(title=col)\n",
        "    plt.show() \n",
        "\n",
        "pie_chart(Covid19, 'Breathing Problem', [1, 0])\n",
        "pie_chart(Covid19, 'Fever', [1, 0])\n",
        "pie_chart(Covid19,'Dry Cough',[1, 0])\n",
        "pie_chart(Covid19,'Sore throat',[1, 0])\n",
        "pie_chart(Covid19,'Abroad travel',[1, 0])\n",
        "pie_chart(Covid19,'Contact with COVID Patient',[1, 0])\n",
        "pie_chart(Covid19,'Attended Large Gathering',[1, 0])\n",
        "pie_chart(Covid19,'Visited Public Exposed Places',[1, 0])\n",
        "pie_chart(Covid19,'Family working in Public Exposed Places',[1, 0])\n"
      ],
      "execution_count": 50,
      "outputs": [
        {
          "output_type": "display_data",
          "data": {
            "image/png": "[encoded data removed]",
            "text/plain": [
              "<Figure size 432x288 with 1 Axes>"
            ]
          },
          "metadata": {
            "tags": []
          }
        },
        {
          "output_type": "display_data",
          "data": {
            "image/png": "[encoded data removed]",
            "text/plain": [
              "<Figure size 432x288 with 1 Axes>"
            ]
          },
          "metadata": {
            "tags": []
          }
        },
        {
          "output_type": "display_data",
          "data": {
            "image/png": "[encoded data removed]",
            "text/plain": [
              "<Figure size 432x288 with 1 Axes>"
            ]
          },
          "metadata": {
            "tags": []
          }
        },
        {
          "output_type": "display_data",
          "data": {
            "image/png": "[encoded data removed]",
            "text/plain": [
              "<Figure size 432x288 with 1 Axes>"
            ]
          },
          "metadata": {
            "tags": []
          }
        },
        {
          "output_type": "display_data",
          "data": {
            "image/png": "[encoded data removed]",
            "text/plain": [
              "<Figure size 432x288 with 1 Axes>"
            ]
          },
          "metadata": {
            "tags": []
          }
        },
        {
          "output_type": "display_data",
          "data": {
            "image/png": "[encoded data removed]",
            "text/plain": [
              "<Figure size 432x288 with 1 Axes>"
            ]
          },
          "metadata": {
            "tags": []
          }
        },
        {
          "output_type": "display_data",
          "data": {
            "image/png": "[encoded data removed]",
            "text/plain": [
              "<Figure size 432x288 with 1 Axes>"
            ]
          },
          "metadata": {
            "tags": []
          }
        },
        {
          "output_type": "display_data",
          "data": {
            "image/png": "[encoded data removed]",
            "text/plain": [
              "<Figure size 432x288 with 1 Axes>"
            ]
          },
          "metadata": {
            "tags": []
          }
        },
        {
          "output_type": "display_data",
          "data": {
            "image/png": "[encoded data removed]",
            "text/plain": [
              "<Figure size 432x288 with 1 Axes>"
            ]
          },
          "metadata": {
            "tags": []
          }
        }
      ]
    },
    {
      "cell_type": "markdown",
      "metadata": {
        "id": "bX9R0DxB04V_"
      },
      "source": [
        "From above pie chart we can visualize the population distribution of my selected independent variables based on population who is suffering from Covid 19 (COVID-19 = 1) and those who are not (COVID-19 = 0)"
      ]
    },
    {
      "cell_type": "markdown",
      "metadata": {
        "id": "nNWAgG5iWuQV"
      },
      "source": [
        "**Modelling**"
      ]
    },
    {
      "cell_type": "markdown",
      "metadata": {
        "id": "2Yzv_XPC5_xE"
      },
      "source": [
        "For my modelling technique , I am going to use 3 ML algorithm techniques those are as mentioned below:\n",
        "\n",
        "1. Logistic Regression\n",
        "2. Random Forest\n",
        "3. Decision Tree\n",
        "\n",
        "Based on the result which I will be obtaining I would go for the best model which will be fit for my data. Based on this it would be easy to predict the covid spread based on our explanatory variables"
      ]
    },
    {
      "cell_type": "markdown",
      "metadata": {
        "id": "tgWUW9Id7S_U"
      },
      "source": [
        "**Splitting data into Train and Test**"
      ]
    },
    {
      "cell_type": "code",
      "metadata": {
        "id": "DrRKXv9f7ZOz"
      },
      "source": [
        "from sklearn.model_selection import train_test_split\n",
        "from sklearn import metrics\n",
        "from sklearn.metrics import accuracy_score\n",
        "from sklearn import"
      ],
      "execution_count": 51,
      "outputs": []
    },
    {
      "cell_type": "code",
      "metadata": {
        "id": "eWYSEG0cCBu0"
      },
      "source": [
        "#Dropping the variables from the dataset which are not strongly correalted with my dependent variable\n",
        "x=Covid19.drop(columns = ['Running Nose','Asthma','Chronic Lung Disease','Headache','Heart Disease','Diabetes','Hyper Tension','Fatigue ','Gastrointestinal ','COVID-19'])\n",
        "y=Covid19['COVID-19']"
      ],
      "execution_count": 52,
      "outputs": []
    },
    {
      "cell_type": "code",
      "metadata": {
        "id": "LkKB-EpnCXzF"
      },
      "source": [
        "#Splitting dataset to 70:30 ratio as per the rule of dataset has less than 10,000 records\n",
        "x_train, x_test, y_train, y_test = train_test_split(x, y, test_size = 0.30)"
      ],
      "execution_count": 53,
      "outputs": []
    },
    {
      "cell_type": "markdown",
      "metadata": {
        "id": "uYJ3Wf4VEpiw"
      },
      "source": [
        "**Logistic Regression Model**"
      ]
    },
    {
      "cell_type": "code",
      "metadata": {
        "colab": {
          "base_uri": "https://localhost:8080/"
        },
        "id": "Rk3v7SSfDB22",
        "outputId": "3ee8f6b6-eaa5-4824-9104-841b4d599f4c"
      },
      "source": [
        "from sklearn.linear_model import LogisticRegression\n",
        "Logistic_model = LogisticRegression()\n",
        "#Fit the model\n",
        "Logistic_model.fit(x_train, y_train)\n",
        "y_pred = Logistic_model.predict(x_test)\n",
        "#Score/Accuracy\n",
        "Acc_LogReg=Logistic_model.score(x_test, y_test)*100\n",
        "Acc_LogReg"
      ],
      "execution_count": 93,
      "outputs": [
        {
          "output_type": "execute_result",
          "data": {
            "text/plain": [
              "96.99570815450643"
            ]
          },
          "metadata": {
            "tags": []
          },
          "execution_count": 93
        }
      ]
    },
    {
      "cell_type": "markdown",
      "metadata": {
        "id": "BK60U5xNEuSG"
      },
      "source": [
        "**Random Forest Model**"
      ]
    },
    {
      "cell_type": "code",
      "metadata": {
        "colab": {
          "base_uri": "https://localhost:8080/"
        },
        "id": "X6w9hCKIDd6A",
        "outputId": "918e74c0-3763-431a-954a-7b61168da6ec"
      },
      "source": [
        "#Train the model\n",
        "from sklearn.ensemble import RandomForestRegressor\n",
        "RandomForest_model = RandomForestRegressor(n_estimators=1000)\n",
        "\n",
        "#Fit\n",
        "RandomForest_model.fit(x_train, y_train)\n",
        "y_pred=RandomForest_model.predict(x_test)\n",
        "#Score/Accuracy\n",
        "Acc_RandomForest=RandomForest_model.score(x_test, y_test)*100\n",
        "Acc_RandomForest"
      ],
      "execution_count": 91,
      "outputs": [
        {
          "output_type": "execute_result",
          "data": {
            "text/plain": [
              "88.46898170949204"
            ]
          },
          "metadata": {
            "tags": []
          },
          "execution_count": 91
        }
      ]
    },
    {
      "cell_type": "markdown",
      "metadata": {
        "id": "sn7aZLviEx3K"
      },
      "source": [
        "**Decision Tree**"
      ]
    },
    {
      "cell_type": "code",
      "metadata": {
        "colab": {
          "base_uri": "https://localhost:8080/"
        },
        "id": "TH_2JopKDq9M",
        "outputId": "e84eafe6-1e4c-46bc-8778-18a89264654e"
      },
      "source": [
        "from sklearn import tree\n",
        "DecisionTree_Model = tree.DecisionTreeClassifier()\n",
        "DecisionTree_Model.fit(x_train,y_train)\n",
        "y_pred = DecisionTree_Model.predict(x_test)\n",
        "#Score/Accuracy\n",
        "Acc_DecisionTree=DecisionTree_Model.score(x_test, y_test)*100\n",
        "Acc_DecisionTree"
      ],
      "execution_count": 92,
      "outputs": [
        {
          "output_type": "execute_result",
          "data": {
            "text/plain": [
              "96.68914776210914"
            ]
          },
          "metadata": {
            "tags": []
          },
          "execution_count": 92
        }
      ]
    },
    {
      "cell_type": "markdown",
      "metadata": {
        "id": "QGVTnfNYE1jx"
      },
      "source": [
        "**Model Comparison**"
      ]
    },
    {
      "cell_type": "code",
      "metadata": {
        "colab": {
          "base_uri": "https://localhost:8080/",
          "height": 142
        },
        "id": "bLtg_2MXEIIZ",
        "outputId": "182c4d83-0cab-475e-c91b-47dc67cfee89"
      },
      "source": [
        "models = pd.DataFrame({\n",
        "    'Model': ['Logistic Regression', \n",
        "              'Random Forest',  \n",
        "              'Decision Tree'],\n",
        "    'Score': [Acc_LogReg, \n",
        "              Acc_RandomForest,\n",
        "              Acc_DecisionTree]})\n",
        "models.sort_values(by='Score', ascending=False)"
      ],
      "execution_count": 78,
      "outputs": [
        {
          "output_type": "execute_result",
          "data": {
            "text/html": [
              "<div>\n",
              "<style scoped>\n",
              "    .dataframe tbody tr th:only-of-type {\n",
              "        vertical-align: middle;\n",
              "    }\n",
              "\n",
              "    .dataframe tbody tr th {\n",
              "        vertical-align: top;\n",
              "    }\n",
              "\n",
              "    .dataframe thead th {\n",
              "        text-align: right;\n",
              "    }\n",
              "</style>\n",
              "<table border=\"1\" class=\"dataframe\">\n",
              "  <thead>\n",
              "    <tr style=\"text-align: right;\">\n",
              "      <th></th>\n",
              "      <th>Model</th>\n",
              "      <th>Score</th>\n",
              "    </tr>\n",
              "  </thead>\n",
              "  <tbody>\n",
              "    <tr>\n",
              "      <th>0</th>\n",
              "      <td>Logistic Regression</td>\n",
              "      <td>96.995708</td>\n",
              "    </tr>\n",
              "    <tr>\n",
              "      <th>2</th>\n",
              "      <td>Decision Tree</td>\n",
              "      <td>96.689148</td>\n",
              "    </tr>\n",
              "    <tr>\n",
              "      <th>1</th>\n",
              "      <td>Random Forest</td>\n",
              "      <td>88.485842</td>\n",
              "    </tr>\n",
              "  </tbody>\n",
              "</table>\n",
              "</div>"
            ],
            "text/plain": [
              "                 Model      Score\n",
              "0  Logistic Regression  96.995708\n",
              "2        Decision Tree  96.689148\n",
              "1        Random Forest  88.485842"
            ]
          },
          "metadata": {
            "tags": []
          },
          "execution_count": 78
        }
      ]
    },
    {
      "cell_type": "code",
      "metadata": {
        "colab": {
          "base_uri": "https://localhost:8080/",
          "height": 34
        },
        "id": "cR0kMpDcPHFt",
        "outputId": "bd2d8a5e-742f-4a2c-a24b-85b066e2ce22"
      },
      "source": [
        "from sklearn.preprocessing import RobustScaler, label_binarize\n",
        "from sklearn.metrics import roc_curve, roc_auc_score, auc\n",
        "from sklearn.ensemble import RandomForestClassifier\n",
        "plt.figure(figsize=(15, 15))\n",
        "def plot_roc_curve(classifier, label):\n",
        "    # Compute ROC curve and ROC area for each class\n",
        "    fpr = []\n",
        "    tpr = []\n",
        "    roc_auc = []\n",
        "    pred_test = classifier.predict_proba(x_test)\n",
        "    fpr, tpr, _ = roc_curve(yy_test, pred_test[:, 1])\n",
        "    roc_auc = auc(fpr, tpr)\n",
        "    \n",
        "    plt.plot(fpr, tpr, label=label+(' (area = %0.4f)' % roc_auc))\n",
        "def show_roc_curve():\n",
        "    plt.plot([0, 1], [0, 1], 'k--')\n",
        "    plt.xlim([0.0, 1.0])\n",
        "    plt.ylim([0.0, 1.05])\n",
        "    plt.xlabel('False Positive Rate')\n",
        "    plt.ylabel('True Positive Rate')\n",
        "    plt.title('ROC curve')\n",
        "    plt.legend(loc=\"lower right\")\n",
        "    plt.show()"
      ],
      "execution_count": 89,
      "outputs": [
        {
          "output_type": "display_data",
          "data": {
            "text/plain": [
              "<Figure size 1080x1080 with 0 Axes>"
            ]
          },
          "metadata": {
            "tags": []
          }
        }
      ]
    },
    {
      "cell_type": "code",
      "metadata": {
        "colab": {
          "base_uri": "https://localhost:8080/",
          "height": 295
        },
        "id": "uir8xLepRp9z",
        "outputId": "2421af83-8e5c-4be4-fb39-8cfafc600444"
      },
      "source": [
        "plot_roc_curve(Logistic_model, label='Logistic Regression')\n",
        "plot_roc_curve(DecisionTree_Model, label='Decision Tree')\n",
        "show_roc_curve()"
      ],
      "execution_count": 90,
      "outputs": [
        {
          "output_type": "display_data",
          "data": {
            "image/png": "[encoded data removed]",
            "text/plain": [
              "<Figure size 432x288 with 1 Axes>"
            ]
          },
          "metadata": {
            "tags": [],
            "needs_background": "light"
          }
        }
      ]
    },
    {
      "cell_type": "markdown",
      "metadata": {
        "id": "cBYbgdyHNkG1"
      },
      "source": [
        "**Conclusion**\n",
        "\n",
        "Based on the results from our 3 ML models we can see the best fitting model for our trained data from variables Breathing Problem, Fever,Dry Cough, Sore throat, Abroad travel, Contact with Covid19 Patient, Attended Large Gathering, Visited Public Exposed Places and Family working in Public Exposed Places for our dependent variable COVID-19 is Logistic regression though Decision tree is also nearby to value approximately equals to same as Logistic. Also from Area under the curve analysis we can say for my Logistic regression model, there is 99.36 % chances of correct predictions whereas with decision tree 99.68% correct predictions can be made."
      ]
    }
  ]
}